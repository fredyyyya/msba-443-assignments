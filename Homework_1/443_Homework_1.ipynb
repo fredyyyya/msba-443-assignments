{
  "nbformat": 4,
  "nbformat_minor": 0,
  "metadata": {
    "colab": {
      "provenance": []
    },
    "kernelspec": {
      "name": "python3",
      "display_name": "Python 3"
    },
    "language_info": {
      "name": "python"
    }
  },
  "cells": [
    {
      "cell_type": "markdown",
      "source": [
        "# Analytics Decision Making\n",
        "## Individual Homework 1\n",
        "### Shaolong (Fred) Xue"
      ],
      "metadata": {
        "id": "3rNjr1-CfTeJ"
      }
    },
    {
      "cell_type": "markdown",
      "source": [
        "### **Exercise 1**"
      ],
      "metadata": {
        "id": "_rdvWF8Kfe0P"
      }
    },
    {
      "cell_type": "markdown",
      "source": [
        "#### **Question 1**"
      ],
      "metadata": {
        "id": "cII5NJupi8Je"
      }
    },
    {
      "cell_type": "markdown",
      "source": [
        "**Optimization Model for Plant A**\n",
        "\n",
        "Decision Variables:\n",
        "\n",
        "* SA = units of Standard product from Plant A\n",
        "* DA = units of Deluxe product from Plant A\n",
        "\n",
        "Objective Function:\n",
        "\n",
        "* Max(profit) = 10SA + 15DA\n",
        "\n",
        "Constraints:\n",
        "\n",
        "* Grinding Capacity: The total grinding hours used by Standard and Deluxe products cannot exceed the grinding capacity of the plant.\n",
        "  * 4SA + 2DA ≤ 80\n",
        "\n",
        "* Polishing Capacity: The total polishing hours used by Standard and Deluxe products cannot exceed the polishing capacity of the plant.\n",
        "  * 2SA + 5DA ≤ 60\n",
        "\n",
        "* Raw Material Usage: The raw material used by both products cannot exceed the allocation for the plant.\n",
        "  * 4*(SA + DA) ≤ 75"
      ],
      "metadata": {
        "id": "3APb4hkch6MR"
      }
    },
    {
      "cell_type": "markdown",
      "source": [
        "**Optimization Model for Plant B**\n",
        "\n",
        "Decision Variables:\n",
        "\n",
        "* SB = units of Standard product from Plant B\n",
        "* DB = units of Deluxe product from Plant B\n",
        "\n",
        "Objective Function:\n",
        "\n",
        "* Max(profit) = 10SB + 15DB\n",
        "\n",
        "Constraints:\n",
        "\n",
        "* Grinding Capacity: The total grinding hours used by Standard and Deluxe products cannot exceed the grinding capacity of the plant.\n",
        "  * 5SB + 3DB ≤ 60\n",
        "\n",
        "* Polishing Capacity: The total polishing hours used by Standard and Deluxe products cannot exceed the polishing capacity of the plant.\n",
        "  * 5SB + 6DB ≤ 75\n",
        "\n",
        "* Raw Material Usage: The raw material used by both products cannot exceed the allocation for the plant.\n",
        "  * 4*(SB + DB) ≤ 45"
      ],
      "metadata": {
        "id": "GVwmBy1yilxW"
      }
    },
    {
      "cell_type": "markdown",
      "source": [
        "#### **Question 2**"
      ],
      "metadata": {
        "id": "ElQc_W5Li_Am"
      }
    },
    {
      "cell_type": "code",
      "source": [
        "import numpy as np\n",
        "import cvxpy as cp"
      ],
      "metadata": {
        "id": "gZUdh3a7jGs1"
      },
      "execution_count": 6,
      "outputs": []
    },
    {
      "cell_type": "code",
      "source": [
        "# Define the decision variables\n",
        "SA = cp.Variable(integer=True)\n",
        "DA = cp.Variable(integer=True)\n",
        "SB = cp.Variable(integer=True)\n",
        "DB = cp.Variable(integer=True)\n",
        "\n",
        "# Define the constraints\n",
        "constraints_A = [\n",
        "    4*SA + 2*DA <= 80,    # Grinding capacity for Plant A\n",
        "    2*SA + 5*DA <= 60,    # Polishing capacity for Plant A\n",
        "    4*(SA + DA) <= 75,    # Raw material capacity for Plant A\n",
        "    SA >= 0,\n",
        "    DA >= 0\n",
        "]\n",
        "\n",
        "constraints_B = [\n",
        "    5*SB + 3*DB <= 60,    # Grinding capacity for Plant B\n",
        "    5*SB + 6*DB <= 75,    # Polishing capacity for Plant B\n",
        "    4*(SB + DB) <= 45,    # Raw material capacity for Plant B\n",
        "    SB >= 0,\n",
        "    DB >= 0\n",
        "]\n",
        "\n",
        "# Define the objective function\n",
        "objective_A = cp.Maximize(10*SA + 15*DA)\n",
        "objective_B = cp.Maximize(10*SB + 15*DB)\n",
        "\n",
        "# Define the problem\n",
        "probA = cp.Problem(objective_A, constraints_A)\n",
        "probB = cp.Problem(objective_B, constraints_B)\n",
        "\n",
        "# Solve the problem\n",
        "probA.solve(solver=cp.GLPK_MI)\n",
        "probB.solve(solver=cp.GLPK_MI)\n",
        "\n",
        "# Print the result\n",
        "print(\"Plant A: SA =\", SA.value, \", DA =\", DA.value, \", Total Profit = $\", probA.value)\n",
        "print(\"Plant B: SB =\", SB.value, \", DB =\", DB.value, \", Total Profit = $\", probB.value)"
      ],
      "metadata": {
        "colab": {
          "base_uri": "https://localhost:8080/"
        },
        "id": "pke4Tx3_kdX_",
        "outputId": "676ae6f6-6808-443a-af42-69d688d924d5"
      },
      "execution_count": 7,
      "outputs": [
        {
          "output_type": "stream",
          "name": "stdout",
          "text": [
            "Plant A: SA = 10.0 , DA = 8.0 , Total Profit = $ 220.0\n",
            "Plant B: SB = 0.0 , DB = 11.0 , Total Profit = $ 165.0\n"
          ]
        }
      ]
    },
    {
      "cell_type": "markdown",
      "source": [
        "#### **Question 3**"
      ],
      "metadata": {
        "id": "Ftyotfy4jBcH"
      }
    },
    {
      "cell_type": "code",
      "source": [
        "# Define the decision variables\n",
        "SA = cp.Variable(integer=True)\n",
        "DA = cp.Variable(integer=True)\n",
        "SB = cp.Variable(integer=True)\n",
        "DB = cp.Variable(integer=True)\n",
        "\n",
        "# Define the constraints\n",
        "constraints = [\n",
        "    4*SA + 2*DA <= 80,    # Grinding capacity for Plant A\n",
        "    2*SA + 5*DA <= 60,    # Polishing capacity for Plant A\n",
        "    5*SB + 3*DB <= 60,    # Grinding capacity for Plant B\n",
        "    5*SB + 6*DB <= 75,    # Polishing capacity for Plant B\n",
        "    4*(SA + DA + SB + DB) <= 120, # Raw material for both plants\n",
        "    SA >= 0,\n",
        "    DA >= 0,\n",
        "    SB >= 0,\n",
        "    DB >= 0\n",
        "]\n",
        "\n",
        "# Define the objective function\n",
        "objective = cp.Maximize(10*SA + 15*DA + 10*SB + 15*DB)\n",
        "\n",
        "# Define the problem\n",
        "problem = cp.Problem(objective, constraints)\n",
        "\n",
        "# Solve the problem\n",
        "problem.solve(solver=cp.GLPK_MI)\n",
        "\n",
        "# Print the result\n",
        "print(\"Joint Optimization: SA =\", SA.value, \", DA =\", DA.value, \", SB =\", SB.value, \", DB =\", DB.value, \", Total Profit = $\", problem.value)"
      ],
      "metadata": {
        "colab": {
          "base_uri": "https://localhost:8080/"
        },
        "id": "oEcdhqopmXHS",
        "outputId": "caca3068-50f2-4d22-834d-59e92e6b7be9"
      },
      "execution_count": 8,
      "outputs": [
        {
          "output_type": "stream",
          "name": "stdout",
          "text": [
            "Joint Optimization: SA = 10.0 , DA = 8.0 , SB = 0.0 , DB = 12.0 , Total Profit = $ 400.0\n"
          ]
        }
      ]
    },
    {
      "cell_type": "markdown",
      "source": [
        "#### **Question 4**"
      ],
      "metadata": {
        "id": "zug1eMKZjCbw"
      }
    },
    {
      "cell_type": "markdown",
      "source": [
        "In Question 2, we optimized the operations of Plant A and Plant B separately. The results were:\n",
        "\n",
        "* Plant A: SA = 10.0 , DA = 8.0 , Total Profit = 220.0\n",
        "* Plant B: SB = 0.0 , DB = 11.0 , Total Profit = 165.0\n",
        "\n",
        "In Question 3, we jointly optimized the operations of Plant A and Plant B, treating them as a single system. The results were:\n",
        "\n",
        "* Joint Optimization: SA = 10.0 , DA = 8.0 , SB = 0.0 , DB = 12.0 , Total Profit = 400.0\n",
        "\n",
        "Overall all, production in Plant A was the same, but Plant B has one unit increase in producing deluxe products. This drives the total profit up from 385 to 400. \n",
        "\n",
        "The reason for this increase is due to the relaxation of raw material constraint in individual plants. The total amount of raw materials available across both plants was set to 120 kg, but there was no fixed allocation per plant."
      ],
      "metadata": {
        "id": "v4o9SHRvnkMe"
      }
    },
    {
      "cell_type": "markdown",
      "source": [
        "#### **Question 5**"
      ],
      "metadata": {
        "id": "lf06whXyjDde"
      }
    },
    {
      "cell_type": "markdown",
      "source": [
        "Based on the analysis, I recommend the CEO to shift towards a joint optimization approach for its operations. As we've showned you previously, individual operation at Plant A and Plant B results in a waste of raw material capacity and unrealized gains. If we treat the two plants as a single system and dynamically allocate raw materials based on demand and operational capacities, we can increase the total profit from \\$385 to $400 per week. In particular, it would be beneficial to increase the production of the deluxe product at Plant B by utilizing the extra raw materials available. The production plan for Plant A can remain the same. This joint optimization approach provides flexibility and allows us to better manage our resources, resulting in more effective operations and higher profits. It's also crucial that we continually reassess these models, as changes in market conditions, operational capacities, or raw material availability can shift optimal production strategies."
      ],
      "metadata": {
        "id": "NOH3bxJNohye"
      }
    },
    {
      "cell_type": "markdown",
      "source": [
        "### **Exercise 2**"
      ],
      "metadata": {
        "id": "1bR93RkofkZu"
      }
    },
    {
      "cell_type": "markdown",
      "source": [
        "#### **Question 1**"
      ],
      "metadata": {
        "id": "h8ZeDNXdqzfY"
      }
    },
    {
      "cell_type": "markdown",
      "source": [
        "**Positive Effects on Profitability**:\n",
        "\n",
        "* Price of the Inn: The coefficient is 5.86, which indicates that as the price of the Inn increases, the profitability also increases, assuming all other factors remain constant.\n",
        "* College Students in the Area: The coefficient is 1.75, suggesting that an increase in the number of college students in the area would also lead to an increase in profitability, with all else being equal.\n",
        "\n",
        "**Negative Effects on Profitability**:\n",
        "\n",
        "* State Population per Inn: The coefficient is -5.41, implying that an increase in the state population per Inn reduces profitability, keeping all other variables constant.\n",
        "* Square Root of the Median Income in the area: The coefficient is -3.09, suggesting that as the square root of the median income in the area increases, profitability decreases, assuming all other factors remain constant.\n",
        "\n",
        "**Intuitive, these effects make sense**:\n",
        "* The positive effect of 'Price of the Inn' is straightforward. The higher the price of staying at the Inn, the higher the revenue and thus, potentially, the higher the profitability, assuming costs remain constant.\n",
        "* 'College Students in the Area' may frequent the Inn, boosting its profits. They may also attract more visitors, or indicate seasonal activities such as commencement, homecoming, etc., further enhancing profitability.\n",
        "*The negative effect of 'State Population per Inn' might be due to competition. If the ratio of the state population per Inn is high, it may indicate many inns serving the same population, which could reduce the profitability of each inn.\n",
        "* The negative effect of 'Square Root of the Median Income in the area' is a bit counter-intuitive as one might expect that higher income could lead to more spending in hotels. However, it might be the case that areas with higher median income have residents that travel more, and hence, use the local inns less. It could also be that these areas have more expensive real estate and operating costs, reducing profitability."
      ],
      "metadata": {
        "id": "LgNiD4tEq8GX"
      }
    },
    {
      "cell_type": "markdown",
      "source": [
        "#### **Question 2**"
      ],
      "metadata": {
        "id": "edQlVXyOq0UD"
      }
    },
    {
      "cell_type": "markdown",
      "source": [
        "I have calculated profitability on Excel. This updated file is also submitted with this assignment. \n",
        "\n",
        "Based on the calculation, \n",
        "* the hotel with the highest profitability is Hotel 2, located at Fresno, California. \n",
        "* the hotel with the lowest profitability is Hotel 8, located at Los Angeles, California. \n",
        "\n",
        "I am loading this file to Google Colab for later questions."
      ],
      "metadata": {
        "id": "kLaZWs3AtoIF"
      }
    },
    {
      "cell_type": "code",
      "source": [
        "import pandas as pd\n",
        "\n",
        "# File path for \"LQM.xlsx\" on my Google Drive\n",
        "path = \"/LQM.xlsx\""
      ],
      "metadata": {
        "id": "OvAUy3JJzQQr"
      },
      "execution_count": 22,
      "outputs": []
    },
    {
      "cell_type": "code",
      "source": [
        "LQM = pd.read_excel(path, header=2)"
      ],
      "metadata": {
        "colab": {
          "base_uri": "https://localhost:8080/"
        },
        "id": "VN5THgx2z_J7",
        "outputId": "77aa9b6a-14ad-4572-ec94-adc82d798428"
      },
      "execution_count": 23,
      "outputs": [
        {
          "output_type": "stream",
          "name": "stderr",
          "text": [
            "/usr/local/lib/python3.10/dist-packages/openpyxl/worksheet/_reader.py:312: UserWarning: Unknown extension is not supported and will be removed\n",
            "  warn(msg)\n"
          ]
        }
      ]
    },
    {
      "cell_type": "code",
      "source": [
        "LQM.head(5)"
      ],
      "metadata": {
        "colab": {
          "base_uri": "https://localhost:8080/",
          "height": 285
        },
        "id": "9W1GexQT0YBx",
        "outputId": "20493b81-e566-4cdc-f243-0b53c4703149"
      },
      "execution_count": 24,
      "outputs": [
        {
          "output_type": "execute_result",
          "data": {
            "text/plain": [
              "   Hotel                Location     Price  Price (normalized)  \\\n",
              "0      2      Fresno, California  10000000            1.699076   \n",
              "1      6  Long Beach, California   8950000            1.402123   \n",
              "2      1      Eureka, California   2925000           -0.301823   \n",
              "3      3      Fresno, California   3750000           -0.068503   \n",
              "4      4      Fresno, California   3500000           -0.139206   \n",
              "\n",
              "   Square Root of Median Income (normalized)  \\\n",
              "0                                  -0.408199   \n",
              "1                                   0.657845   \n",
              "2                                  -0.812780   \n",
              "3                                  -0.408199   \n",
              "4                                  -0.408199   \n",
              "\n",
              "   College Students in Area (normalized)  \\\n",
              "0                               0.311669   \n",
              "1                               0.483711   \n",
              "2                              -0.536413   \n",
              "3                               0.311669   \n",
              "4                               0.311669   \n",
              "\n",
              "   State Population Per Inn (normalized)  Profitability  \n",
              "0                              -0.474279      53.379192  \n",
              "1                              -0.557278      49.095069  \n",
              "2                              -0.995987      44.242369  \n",
              "3                              -0.474279      43.021179  \n",
              "4                              -0.474279      42.606858  "
            ],
            "text/html": [
              "\n",
              "  <div id=\"df-138eac3b-5df3-44e7-93f3-a3edfcdaa957\">\n",
              "    <div class=\"colab-df-container\">\n",
              "      <div>\n",
              "<style scoped>\n",
              "    .dataframe tbody tr th:only-of-type {\n",
              "        vertical-align: middle;\n",
              "    }\n",
              "\n",
              "    .dataframe tbody tr th {\n",
              "        vertical-align: top;\n",
              "    }\n",
              "\n",
              "    .dataframe thead th {\n",
              "        text-align: right;\n",
              "    }\n",
              "</style>\n",
              "<table border=\"1\" class=\"dataframe\">\n",
              "  <thead>\n",
              "    <tr style=\"text-align: right;\">\n",
              "      <th></th>\n",
              "      <th>Hotel</th>\n",
              "      <th>Location</th>\n",
              "      <th>Price</th>\n",
              "      <th>Price (normalized)</th>\n",
              "      <th>Square Root of Median Income (normalized)</th>\n",
              "      <th>College Students in Area (normalized)</th>\n",
              "      <th>State Population Per Inn (normalized)</th>\n",
              "      <th>Profitability</th>\n",
              "    </tr>\n",
              "  </thead>\n",
              "  <tbody>\n",
              "    <tr>\n",
              "      <th>0</th>\n",
              "      <td>2</td>\n",
              "      <td>Fresno, California</td>\n",
              "      <td>10000000</td>\n",
              "      <td>1.699076</td>\n",
              "      <td>-0.408199</td>\n",
              "      <td>0.311669</td>\n",
              "      <td>-0.474279</td>\n",
              "      <td>53.379192</td>\n",
              "    </tr>\n",
              "    <tr>\n",
              "      <th>1</th>\n",
              "      <td>6</td>\n",
              "      <td>Long Beach, California</td>\n",
              "      <td>8950000</td>\n",
              "      <td>1.402123</td>\n",
              "      <td>0.657845</td>\n",
              "      <td>0.483711</td>\n",
              "      <td>-0.557278</td>\n",
              "      <td>49.095069</td>\n",
              "    </tr>\n",
              "    <tr>\n",
              "      <th>2</th>\n",
              "      <td>1</td>\n",
              "      <td>Eureka, California</td>\n",
              "      <td>2925000</td>\n",
              "      <td>-0.301823</td>\n",
              "      <td>-0.812780</td>\n",
              "      <td>-0.536413</td>\n",
              "      <td>-0.995987</td>\n",
              "      <td>44.242369</td>\n",
              "    </tr>\n",
              "    <tr>\n",
              "      <th>3</th>\n",
              "      <td>3</td>\n",
              "      <td>Fresno, California</td>\n",
              "      <td>3750000</td>\n",
              "      <td>-0.068503</td>\n",
              "      <td>-0.408199</td>\n",
              "      <td>0.311669</td>\n",
              "      <td>-0.474279</td>\n",
              "      <td>43.021179</td>\n",
              "    </tr>\n",
              "    <tr>\n",
              "      <th>4</th>\n",
              "      <td>4</td>\n",
              "      <td>Fresno, California</td>\n",
              "      <td>3500000</td>\n",
              "      <td>-0.139206</td>\n",
              "      <td>-0.408199</td>\n",
              "      <td>0.311669</td>\n",
              "      <td>-0.474279</td>\n",
              "      <td>42.606858</td>\n",
              "    </tr>\n",
              "  </tbody>\n",
              "</table>\n",
              "</div>\n",
              "      <button class=\"colab-df-convert\" onclick=\"convertToInteractive('df-138eac3b-5df3-44e7-93f3-a3edfcdaa957')\"\n",
              "              title=\"Convert this dataframe to an interactive table.\"\n",
              "              style=\"display:none;\">\n",
              "        \n",
              "  <svg xmlns=\"http://www.w3.org/2000/svg\" height=\"24px\"viewBox=\"0 0 24 24\"\n",
              "       width=\"24px\">\n",
              "    <path d=\"M0 0h24v24H0V0z\" fill=\"none\"/>\n",
              "    <path d=\"M18.56 5.44l.94 2.06.94-2.06 2.06-.94-2.06-.94-.94-2.06-.94 2.06-2.06.94zm-11 1L8.5 8.5l.94-2.06 2.06-.94-2.06-.94L8.5 2.5l-.94 2.06-2.06.94zm10 10l.94 2.06.94-2.06 2.06-.94-2.06-.94-.94-2.06-.94 2.06-2.06.94z\"/><path d=\"M17.41 7.96l-1.37-1.37c-.4-.4-.92-.59-1.43-.59-.52 0-1.04.2-1.43.59L10.3 9.45l-7.72 7.72c-.78.78-.78 2.05 0 2.83L4 21.41c.39.39.9.59 1.41.59.51 0 1.02-.2 1.41-.59l7.78-7.78 2.81-2.81c.8-.78.8-2.07 0-2.86zM5.41 20L4 18.59l7.72-7.72 1.47 1.35L5.41 20z\"/>\n",
              "  </svg>\n",
              "      </button>\n",
              "      \n",
              "  <style>\n",
              "    .colab-df-container {\n",
              "      display:flex;\n",
              "      flex-wrap:wrap;\n",
              "      gap: 12px;\n",
              "    }\n",
              "\n",
              "    .colab-df-convert {\n",
              "      background-color: #E8F0FE;\n",
              "      border: none;\n",
              "      border-radius: 50%;\n",
              "      cursor: pointer;\n",
              "      display: none;\n",
              "      fill: #1967D2;\n",
              "      height: 32px;\n",
              "      padding: 0 0 0 0;\n",
              "      width: 32px;\n",
              "    }\n",
              "\n",
              "    .colab-df-convert:hover {\n",
              "      background-color: #E2EBFA;\n",
              "      box-shadow: 0px 1px 2px rgba(60, 64, 67, 0.3), 0px 1px 3px 1px rgba(60, 64, 67, 0.15);\n",
              "      fill: #174EA6;\n",
              "    }\n",
              "\n",
              "    [theme=dark] .colab-df-convert {\n",
              "      background-color: #3B4455;\n",
              "      fill: #D2E3FC;\n",
              "    }\n",
              "\n",
              "    [theme=dark] .colab-df-convert:hover {\n",
              "      background-color: #434B5C;\n",
              "      box-shadow: 0px 1px 3px 1px rgba(0, 0, 0, 0.15);\n",
              "      filter: drop-shadow(0px 1px 2px rgba(0, 0, 0, 0.3));\n",
              "      fill: #FFFFFF;\n",
              "    }\n",
              "  </style>\n",
              "\n",
              "      <script>\n",
              "        const buttonEl =\n",
              "          document.querySelector('#df-138eac3b-5df3-44e7-93f3-a3edfcdaa957 button.colab-df-convert');\n",
              "        buttonEl.style.display =\n",
              "          google.colab.kernel.accessAllowed ? 'block' : 'none';\n",
              "\n",
              "        async function convertToInteractive(key) {\n",
              "          const element = document.querySelector('#df-138eac3b-5df3-44e7-93f3-a3edfcdaa957');\n",
              "          const dataTable =\n",
              "            await google.colab.kernel.invokeFunction('convertToInteractive',\n",
              "                                                     [key], {});\n",
              "          if (!dataTable) return;\n",
              "\n",
              "          const docLinkHtml = 'Like what you see? Visit the ' +\n",
              "            '<a target=\"_blank\" href=https://colab.research.google.com/notebooks/data_table.ipynb>data table notebook</a>'\n",
              "            + ' to learn more about interactive tables.';\n",
              "          element.innerHTML = '';\n",
              "          dataTable['output_type'] = 'display_data';\n",
              "          await google.colab.output.renderOutput(dataTable, element);\n",
              "          const docLink = document.createElement('div');\n",
              "          docLink.innerHTML = docLinkHtml;\n",
              "          element.appendChild(docLink);\n",
              "        }\n",
              "      </script>\n",
              "    </div>\n",
              "  </div>\n",
              "  "
            ]
          },
          "metadata": {},
          "execution_count": 24
        }
      ]
    },
    {
      "cell_type": "markdown",
      "source": [
        "#### **Question 3**"
      ],
      "metadata": {
        "id": "Ykl08ibTq1S1"
      }
    },
    {
      "cell_type": "markdown",
      "source": [
        "If we implement the \"greedy\" approach: \n",
        "\n",
        "**Part a:**\n",
        "\n",
        "We would just purchase Hotel 2 (price = $10M) and run out of our budget. \n",
        "\n",
        "**Part b:**\n",
        "\n",
        "Our total predicted profitability would just be the profitiability of Hotel 2, which is 53.38.\n",
        "\n",
        "**Part c:**\n",
        "* If we're just trying to maximize **total** predicted prodicted profitability, the \"greedy\" approach may not be the best. Because there may be a combination of less expensive hotels that provide a higher total profitability than Hotel 2 alone. \n",
        "* If we are trying to maximize **average** predicted profitability, the \"greedy\" approach could work well, especially when the budget is limited. Because buying the most profitable hotel would simply maximize the average profitability. \n",
        "* If our budget is /$20M, the same holds for maximizing **total** predicted profitability. In terms of **average** predicted profitability, that doesn't help us because sticking to buying the single most profitable hotel will always maximize the average. Adding any hotels with lower profitability than Hotel 2 will lower the average predicted profitability."
      ],
      "metadata": {
        "id": "M8z-dP4BvU2e"
      }
    },
    {
      "cell_type": "markdown",
      "source": [
        "#### **Question 4**"
      ],
      "metadata": {
        "id": "YFfhrmmCq2N1"
      }
    },
    {
      "cell_type": "markdown",
      "source": [
        "**Part a:**\n",
        "\n",
        "* Decision Variables:\n",
        "Let's define binary decision variables x[i] for i in [1, 2, ..., 16]. x[i] is equal to 1 if the i-th hotel is selected and 0 otherwise.\n",
        "\n",
        "* Objective Function:\n",
        "The objective is to maximize the total profitability. So, the objective function would be the sum of the profitability of each hotel multiplied by its associated decision variable.\n",
        "\n",
        "  * Maximize ∑ (Profitability[i] * x[i]) for all i\n",
        "\n",
        "* Constraints:\n",
        "The total cost of the selected hotels must be less than or equal to the budget of $10 million.\n",
        "\n",
        "  * ∑ (Price[i] * x[i]) for all i <= 10,000,000\n"
      ],
      "metadata": {
        "id": "iO0mlDYQ2VsY"
      }
    },
    {
      "cell_type": "markdown",
      "source": [
        "**Part b:**"
      ],
      "metadata": {
        "id": "BxD1byh-3DPp"
      }
    },
    {
      "cell_type": "code",
      "source": [
        "# Define the decision variables\n",
        "x = cp.Variable(len(LQM), boolean=True)\n",
        "\n",
        "# Define the objective function\n",
        "objective = cp.Maximize(cp.sum(cp.multiply(LQM['Profitability'], x)))\n",
        "\n",
        "# Define the budget constraint\n",
        "budget_constraint = cp.sum(cp.multiply(LQM['Price'], x)) <= 10000000\n",
        "\n",
        "# Define the problem\n",
        "problem = cp.Problem(objective, [budget_constraint])\n",
        "\n",
        "# Solve the problem\n",
        "problem.solve()\n",
        "\n",
        "# Get the optimal solution\n",
        "optimal_decision = x.value\n",
        "optimal_objective = problem.value\n",
        "\n",
        "# Print the optimal decision variables and objective function value\n",
        "print(\"Optimal Decision Variables:\")\n",
        "for i, decision in enumerate(optimal_decision):\n",
        "    if decision > 0.5:\n",
        "        print(\"Hotel\", LQM['Hotel'].iloc[i])\n",
        "\n",
        "print(\"Optimal Objective Function Value:\", optimal_objective)"
      ],
      "metadata": {
        "colab": {
          "base_uri": "https://localhost:8080/"
        },
        "id": "s29EAj274Hap",
        "outputId": "970c1882-5c28-4b15-b241-b91a11adb133"
      },
      "execution_count": 27,
      "outputs": [
        {
          "output_type": "stream",
          "name": "stdout",
          "text": [
            "Optimal Decision Variables:\n",
            "Hotel 12\n",
            "Hotel 13\n",
            "Hotel 10\n",
            "Hotel 15\n",
            "Hotel 11\n",
            "Hotel 16\n",
            "Hotel 5\n",
            "Optimal Objective Function Value: 269.9246813771899\n"
          ]
        }
      ]
    },
    {
      "cell_type": "markdown",
      "source": [
        "**Part c:**\n",
        "\n",
        "This solution makes sense intuitively. With this optimized solution, we would acquire 7 hotels, instead of just one hotel in the \"greedy\" solution. Our total predicted profitability, given the /$10M budget, would be 269.92. This is a significant increase from just 53.38 in the \"greedy\" solution. "
      ],
      "metadata": {
        "id": "veWVk1cU4dYC"
      }
    },
    {
      "cell_type": "markdown",
      "source": [
        "#### **Question 5**"
      ],
      "metadata": {
        "id": "o0CPyG0Oq4Ws"
      }
    },
    {
      "cell_type": "markdown",
      "source": [
        "**Part a:**"
      ],
      "metadata": {
        "id": "dhNXg0Lg5GDO"
      }
    },
    {
      "cell_type": "markdown",
      "source": [
        "We need to add a constraint that sums up the decision variables x for each unique city and ensures that the sum is less than or equal to 2. This effectively limits the number of hotels purchased in any city to at most 2.\n",
        "\n",
        "Intuitively, adding this constraint will probably result in a smaller optimal objective function value compared to before, because we are now constrained to diversify across as many cities as possible. And it might forces us to select hotels with lower profitability but in different cities to satisify the constraint. That is the trade-off between diversifying the LQM brand to different locations and achieving highest total profitability. "
      ],
      "metadata": {
        "id": "MOETJyau5gew"
      }
    },
    {
      "cell_type": "markdown",
      "source": [
        "**Part b & c:**"
      ],
      "metadata": {
        "id": "TmGbpAkV5Jnd"
      }
    },
    {
      "cell_type": "code",
      "source": [
        "# Define the decision variables\n",
        "x = cp.Variable(len(LQM), boolean=True)\n",
        "\n",
        "# Define the objective function\n",
        "objective = cp.Maximize(cp.sum(cp.multiply(LQM['Profitability'], x)))\n",
        "\n",
        "# Define the budget constraint\n",
        "budget_constraint = cp.sum(cp.multiply(LQM['Price'], x)) <= 10000000\n",
        "\n",
        "# Define the city constraint\n",
        "city_constraint = []\n",
        "for location in LQM['Location'].unique():\n",
        "    city_constraint.append(cp.sum(x[LQM['Location'] == location]) <= 2)\n",
        "\n",
        "# Define the problem\n",
        "problem = cp.Problem(objective, [budget_constraint] + city_constraint)\n",
        "\n",
        "# Solve the problem\n",
        "problem.solve()\n",
        "\n",
        "# Get the optimal solution\n",
        "optimal_decision = x.value\n",
        "optimal_objective = problem.value\n",
        "\n",
        "# Print the optimal solution\n",
        "print(\"Optimal Decision:\")\n",
        "for i in range(len(optimal_decision)):\n",
        "    print(f\"Hotel {i+1}: {optimal_decision[i]}\")\n",
        "\n",
        "# Print the optimal objective function value\n",
        "print(\"Optimal Objective Value:\", optimal_objective)"
      ],
      "metadata": {
        "colab": {
          "base_uri": "https://localhost:8080/"
        },
        "id": "1-gyWZck65sc",
        "outputId": "f16fa31a-ef10-40ae-e1c5-4794432dbd1e"
      },
      "execution_count": 31,
      "outputs": [
        {
          "output_type": "stream",
          "name": "stdout",
          "text": [
            "Optimal Decision:\n",
            "Hotel 1: 0.0\n",
            "Hotel 2: 0.0\n",
            "Hotel 3: 1.0\n",
            "Hotel 4: 0.0\n",
            "Hotel 5: 0.0\n",
            "Hotel 6: 0.0\n",
            "Hotel 7: 0.0\n",
            "Hotel 8: 0.0\n",
            "Hotel 9: 1.0\n",
            "Hotel 10: 0.0\n",
            "Hotel 11: 1.0\n",
            "Hotel 12: 0.0\n",
            "Hotel 13: 1.0\n",
            "Hotel 14: 0.0\n",
            "Hotel 15: 1.0\n",
            "Hotel 16: 1.0\n",
            "Optimal Objective Value: 205.70090440379596\n"
          ]
        }
      ]
    },
    {
      "cell_type": "markdown",
      "source": [
        "From this new model, we're just purchasing 6 hotels: \n",
        "* Hotel 3\n",
        "* Hotel 9\n",
        "* Hotel 11\n",
        "* Hotel 13\n",
        "* Hotel 15\n",
        "* Hotel 16\n",
        "\n",
        "The total predicted profitability is now 205.7. As expected, this is a decrease from the previous model without the location constraint. "
      ],
      "metadata": {
        "id": "RWF1MhR-5Km9"
      }
    },
    {
      "cell_type": "markdown",
      "source": [
        "#### **Question 6**"
      ],
      "metadata": {
        "id": "z12_6_liq6GF"
      }
    },
    {
      "cell_type": "markdown",
      "source": [
        "From the start, I would present the results of the analysis according to their requirement of diversification. I would emphasize that the selected hotels are Hotel 3, Hotel 9, Hotel 11, Hotel 13, Hotel 15, and Hotel 16. These hotels are strategically chosen to diversify the investment across different cities, aligning with LQM's preference for minimizing concentration risk. The optimal total predicted profitability is $205.7.\n",
        "\n",
        "Regarding the regression model, I would recommend LQM to consider a few improvements. Firstly, they should conduct a thorough evaluation of the model's performance by analyzing various statistical measures such as R-squared, adjusted R-squared, and significance levels of coefficients. This analysis will provide insights into the overall goodness-of-fit and the importance of each independent variable in explaining profitability. Additionally, LQM could consider gathering more data points from a broader range of locations to improve the model's generalizability and accuracy. It is essential to ensure that the model is robust and reliable for predicting profitability in new locations.\n",
        "\n",
        "As for the optimization model, I would suggest LQM explore incorporating additional factors such as hotel-specific characteristics, market conditions, or competitive landscape into the model. By expanding the set of independent variables, the optimization model can capture more nuanced factors that influence profitability."
      ],
      "metadata": {
        "id": "bJTBGxlk7_4s"
      }
    },
    {
      "cell_type": "markdown",
      "source": [
        "### **Exercise 3**"
      ],
      "metadata": {
        "id": "rtvhvzr-fmSx"
      }
    },
    {
      "cell_type": "markdown",
      "source": [
        "#### **Question 1**"
      ],
      "metadata": {
        "id": "t21wrwHS-ajW"
      }
    },
    {
      "cell_type": "code",
      "source": [
        "path_2 = \"/OD.xlsx\"\n",
        "\n",
        "OD = pd.read_excel(path_2)"
      ],
      "metadata": {
        "colab": {
          "base_uri": "https://localhost:8080/"
        },
        "id": "9qlyquJa9Skf",
        "outputId": "d23bf0d5-195e-40d5-e950-631b347a4a8f"
      },
      "execution_count": 32,
      "outputs": [
        {
          "output_type": "stream",
          "name": "stderr",
          "text": [
            "/usr/local/lib/python3.10/dist-packages/openpyxl/worksheet/_reader.py:312: UserWarning: Unknown extension is not supported and will be removed\n",
            "  warn(msg)\n"
          ]
        }
      ]
    },
    {
      "cell_type": "code",
      "source": [
        "OD.head()"
      ],
      "metadata": {
        "colab": {
          "base_uri": "https://localhost:8080/",
          "height": 206
        },
        "id": "X9q3yGDjfnbW",
        "outputId": "64b47d07-e02f-4b0f-ebdf-dc2810979fff"
      },
      "execution_count": 36,
      "outputs": [
        {
          "output_type": "execute_result",
          "data": {
            "text/plain": [
              "       Name  Gender  Sports  Theater  Religion  Outdoors  Eating Out\n",
              "0     Laura  Female       0        2        -1         0           2\n",
              "1  Jennifer  Female       0        2        -1        -1           1\n",
              "2      Emma  Female       2       -1         2         0           2\n",
              "3    Olivia  Female       0        2         0         1           1\n",
              "4    Martha  Female       0       -1        -1         0           0"
            ],
            "text/html": [
              "\n",
              "  <div id=\"df-398d7396-29ea-4bcb-b7c4-13470a8f6d57\">\n",
              "    <div class=\"colab-df-container\">\n",
              "      <div>\n",
              "<style scoped>\n",
              "    .dataframe tbody tr th:only-of-type {\n",
              "        vertical-align: middle;\n",
              "    }\n",
              "\n",
              "    .dataframe tbody tr th {\n",
              "        vertical-align: top;\n",
              "    }\n",
              "\n",
              "    .dataframe thead th {\n",
              "        text-align: right;\n",
              "    }\n",
              "</style>\n",
              "<table border=\"1\" class=\"dataframe\">\n",
              "  <thead>\n",
              "    <tr style=\"text-align: right;\">\n",
              "      <th></th>\n",
              "      <th>Name</th>\n",
              "      <th>Gender</th>\n",
              "      <th>Sports</th>\n",
              "      <th>Theater</th>\n",
              "      <th>Religion</th>\n",
              "      <th>Outdoors</th>\n",
              "      <th>Eating Out</th>\n",
              "    </tr>\n",
              "  </thead>\n",
              "  <tbody>\n",
              "    <tr>\n",
              "      <th>0</th>\n",
              "      <td>Laura</td>\n",
              "      <td>Female</td>\n",
              "      <td>0</td>\n",
              "      <td>2</td>\n",
              "      <td>-1</td>\n",
              "      <td>0</td>\n",
              "      <td>2</td>\n",
              "    </tr>\n",
              "    <tr>\n",
              "      <th>1</th>\n",
              "      <td>Jennifer</td>\n",
              "      <td>Female</td>\n",
              "      <td>0</td>\n",
              "      <td>2</td>\n",
              "      <td>-1</td>\n",
              "      <td>-1</td>\n",
              "      <td>1</td>\n",
              "    </tr>\n",
              "    <tr>\n",
              "      <th>2</th>\n",
              "      <td>Emma</td>\n",
              "      <td>Female</td>\n",
              "      <td>2</td>\n",
              "      <td>-1</td>\n",
              "      <td>2</td>\n",
              "      <td>0</td>\n",
              "      <td>2</td>\n",
              "    </tr>\n",
              "    <tr>\n",
              "      <th>3</th>\n",
              "      <td>Olivia</td>\n",
              "      <td>Female</td>\n",
              "      <td>0</td>\n",
              "      <td>2</td>\n",
              "      <td>0</td>\n",
              "      <td>1</td>\n",
              "      <td>1</td>\n",
              "    </tr>\n",
              "    <tr>\n",
              "      <th>4</th>\n",
              "      <td>Martha</td>\n",
              "      <td>Female</td>\n",
              "      <td>0</td>\n",
              "      <td>-1</td>\n",
              "      <td>-1</td>\n",
              "      <td>0</td>\n",
              "      <td>0</td>\n",
              "    </tr>\n",
              "  </tbody>\n",
              "</table>\n",
              "</div>\n",
              "      <button class=\"colab-df-convert\" onclick=\"convertToInteractive('df-398d7396-29ea-4bcb-b7c4-13470a8f6d57')\"\n",
              "              title=\"Convert this dataframe to an interactive table.\"\n",
              "              style=\"display:none;\">\n",
              "        \n",
              "  <svg xmlns=\"http://www.w3.org/2000/svg\" height=\"24px\"viewBox=\"0 0 24 24\"\n",
              "       width=\"24px\">\n",
              "    <path d=\"M0 0h24v24H0V0z\" fill=\"none\"/>\n",
              "    <path d=\"M18.56 5.44l.94 2.06.94-2.06 2.06-.94-2.06-.94-.94-2.06-.94 2.06-2.06.94zm-11 1L8.5 8.5l.94-2.06 2.06-.94-2.06-.94L8.5 2.5l-.94 2.06-2.06.94zm10 10l.94 2.06.94-2.06 2.06-.94-2.06-.94-.94-2.06-.94 2.06-2.06.94z\"/><path d=\"M17.41 7.96l-1.37-1.37c-.4-.4-.92-.59-1.43-.59-.52 0-1.04.2-1.43.59L10.3 9.45l-7.72 7.72c-.78.78-.78 2.05 0 2.83L4 21.41c.39.39.9.59 1.41.59.51 0 1.02-.2 1.41-.59l7.78-7.78 2.81-2.81c.8-.78.8-2.07 0-2.86zM5.41 20L4 18.59l7.72-7.72 1.47 1.35L5.41 20z\"/>\n",
              "  </svg>\n",
              "      </button>\n",
              "      \n",
              "  <style>\n",
              "    .colab-df-container {\n",
              "      display:flex;\n",
              "      flex-wrap:wrap;\n",
              "      gap: 12px;\n",
              "    }\n",
              "\n",
              "    .colab-df-convert {\n",
              "      background-color: #E8F0FE;\n",
              "      border: none;\n",
              "      border-radius: 50%;\n",
              "      cursor: pointer;\n",
              "      display: none;\n",
              "      fill: #1967D2;\n",
              "      height: 32px;\n",
              "      padding: 0 0 0 0;\n",
              "      width: 32px;\n",
              "    }\n",
              "\n",
              "    .colab-df-convert:hover {\n",
              "      background-color: #E2EBFA;\n",
              "      box-shadow: 0px 1px 2px rgba(60, 64, 67, 0.3), 0px 1px 3px 1px rgba(60, 64, 67, 0.15);\n",
              "      fill: #174EA6;\n",
              "    }\n",
              "\n",
              "    [theme=dark] .colab-df-convert {\n",
              "      background-color: #3B4455;\n",
              "      fill: #D2E3FC;\n",
              "    }\n",
              "\n",
              "    [theme=dark] .colab-df-convert:hover {\n",
              "      background-color: #434B5C;\n",
              "      box-shadow: 0px 1px 3px 1px rgba(0, 0, 0, 0.15);\n",
              "      filter: drop-shadow(0px 1px 2px rgba(0, 0, 0, 0.3));\n",
              "      fill: #FFFFFF;\n",
              "    }\n",
              "  </style>\n",
              "\n",
              "      <script>\n",
              "        const buttonEl =\n",
              "          document.querySelector('#df-398d7396-29ea-4bcb-b7c4-13470a8f6d57 button.colab-df-convert');\n",
              "        buttonEl.style.display =\n",
              "          google.colab.kernel.accessAllowed ? 'block' : 'none';\n",
              "\n",
              "        async function convertToInteractive(key) {\n",
              "          const element = document.querySelector('#df-398d7396-29ea-4bcb-b7c4-13470a8f6d57');\n",
              "          const dataTable =\n",
              "            await google.colab.kernel.invokeFunction('convertToInteractive',\n",
              "                                                     [key], {});\n",
              "          if (!dataTable) return;\n",
              "\n",
              "          const docLinkHtml = 'Like what you see? Visit the ' +\n",
              "            '<a target=\"_blank\" href=https://colab.research.google.com/notebooks/data_table.ipynb>data table notebook</a>'\n",
              "            + ' to learn more about interactive tables.';\n",
              "          element.innerHTML = '';\n",
              "          dataTable['output_type'] = 'display_data';\n",
              "          await google.colab.output.renderOutput(dataTable, element);\n",
              "          const docLink = document.createElement('div');\n",
              "          docLink.innerHTML = docLinkHtml;\n",
              "          element.appendChild(docLink);\n",
              "        }\n",
              "      </script>\n",
              "    </div>\n",
              "  </div>\n",
              "  "
            ]
          },
          "metadata": {},
          "execution_count": 36
        }
      ]
    },
    {
      "cell_type": "code",
      "source": [
        "OD['Gender']"
      ],
      "metadata": {
        "colab": {
          "base_uri": "https://localhost:8080/"
        },
        "id": "Ty898SGb9ejd",
        "outputId": "f0f5ba62-8e51-47e4-b9a6-16654a7052cb"
      },
      "execution_count": 42,
      "outputs": [
        {
          "output_type": "execute_result",
          "data": {
            "text/plain": [
              "0     Female\n",
              "1     Female\n",
              "2     Female\n",
              "3     Female\n",
              "4     Female\n",
              "5     Female\n",
              "6     Female\n",
              "7     Female\n",
              "8       Male\n",
              "9       Male\n",
              "10      Male\n",
              "11      Male\n",
              "12      Male\n",
              "13      Male\n",
              "14      Male\n",
              "15      Male\n",
              "Name: Gender, dtype: object"
            ]
          },
          "metadata": {},
          "execution_count": 42
        }
      ]
    },
    {
      "cell_type": "code",
      "source": [
        "import numpy as np\n",
        "from scipy.optimize import linear_sum_assignment\n",
        "\n",
        "# Extract the activity scores from the dataframe\n",
        "activity_scores = OD[['Sports', 'Theater', 'Religion', 'Outdoors', 'Eating Out']].values\n",
        "\n",
        "# Compute the weight matrix\n",
        "weight_matrix = np.dot(activity_scores, activity_scores.T)\n",
        "\n",
        "# Exclude self-matches by removing diagonal elements\n",
        "np.fill_diagonal(weight_matrix, 0)\n",
        "\n",
        "# Get the indices of male and female individuals\n",
        "male_indices = OD[OD['Gender'] == 'Male'].index\n",
        "female_indices = OD[OD['Gender'] == 'Female'].index\n",
        "\n",
        "# Initialize the row and column indices for the linear sum assignment\n",
        "row_indices = np.arange(len(male_indices))\n",
        "col_indices = np.arange(len(female_indices))\n",
        "\n",
        "# Apply the Hungarian algorithm to find the maximum weighted bipartite matching\n",
        "row_indices, col_indices = linear_sum_assignment(-weight_matrix[male_indices][:, female_indices])\n",
        "\n",
        "# Print the optimal matches and their aggregate match scores\n",
        "aggregate_score = 0\n",
        "matched = set()\n",
        "for i in range(len(row_indices)):\n",
        "    male = OD['Name'].iloc[male_indices[row_indices[i]]]\n",
        "    female = OD['Name'].iloc[female_indices[col_indices[i]]]\n",
        "    if male not in matched and female not in matched:\n",
        "        match_score = weight_matrix[male_indices[row_indices[i]], female_indices[col_indices[i]]]\n",
        "        aggregate_score += match_score\n",
        "        matched.add(male)\n",
        "        matched.add(female)\n",
        "        print(f\"Match: {female} & {male}, Match Score: {match_score}\")\n",
        "\n",
        "print(f\"\\nAggregate Match Score: {aggregate_score}\")"
      ],
      "metadata": {
        "colab": {
          "base_uri": "https://localhost:8080/"
        },
        "id": "JFGay1oH-LXT",
        "outputId": "835049dc-6018-4cb8-d26e-0af47cc1a16d"
      },
      "execution_count": 46,
      "outputs": [
        {
          "output_type": "stream",
          "name": "stdout",
          "text": [
            "Match: Mary & James, Match Score: 5\n",
            "Match: Sophia & Robert, Match Score: 5\n",
            "Match: Olivia & Peter, Match Score: 4\n",
            "Match: Martha & Eric, Match Score: 4\n",
            "Match: Emma & Daniel, Match Score: 8\n",
            "Match: Jennifer & Adam, Match Score: 6\n",
            "Match: Laura & Carl, Match Score: 8\n",
            "Match: Isabella & Ralph, Match Score: 8\n",
            "\n",
            "Aggregate Match Score: 48\n"
          ]
        }
      ]
    },
    {
      "cell_type": "markdown",
      "source": [
        "#### **Question 2**"
      ],
      "metadata": {
        "id": "3cBeYK1w-f92"
      }
    },
    {
      "cell_type": "code",
      "source": [
        "import numpy as np\n",
        "from heapq import nlargest\n",
        "\n",
        "# Extract the activity scores from the dataframe\n",
        "activity_scores = OD[['Sports', 'Theater', 'Religion', 'Outdoors', 'Eating Out']].values\n",
        "\n",
        "# Compute the weight matrix\n",
        "weight_matrix = np.dot(activity_scores, activity_scores.T)\n",
        "\n",
        "# Exclude self-matches by removing diagonal elements\n",
        "np.fill_diagonal(weight_matrix, 0)\n",
        "\n",
        "# Get the indices of male and female individuals\n",
        "male_indices = OD[OD['Gender'] == 'Male'].index\n",
        "female_indices = OD[OD['Gender'] == 'Female'].index\n",
        "\n",
        "# Initialize the lists to store the top two matches for each individual\n",
        "top_matches = [[] for _ in range(len(male_indices))]\n",
        "\n",
        "# Iterate over male individuals and find their top two matches\n",
        "for i in range(len(male_indices)):\n",
        "    top_female_indices = nlargest(2, range(len(female_indices)), key=lambda x: weight_matrix[male_indices[i], female_indices[x]])\n",
        "    for idx in top_female_indices:\n",
        "        top_matches[i].append((idx, weight_matrix[male_indices[i], female_indices[idx]]))\n",
        "\n",
        "# Print the top two matches for each male individual\n",
        "for male_idx, matches in enumerate(top_matches):\n",
        "    male_name = OD['Name'].iloc[male_indices[male_idx]]\n",
        "    print(f\"Male: {male_name}\")\n",
        "    for female_idx, match_score in matches:\n",
        "        female_name = OD['Name'].iloc[female_indices[female_idx]]\n",
        "        print(f\"\\tFemale: {female_name}, Match Score: {match_score}\")\n"
      ],
      "metadata": {
        "colab": {
          "base_uri": "https://localhost:8080/"
        },
        "id": "v1Ex2zyt-h25",
        "outputId": "a51cf5e2-1103-4a6b-f740-147b90834638"
      },
      "execution_count": 53,
      "outputs": [
        {
          "output_type": "stream",
          "name": "stdout",
          "text": [
            "Male: James\n",
            "\tFemale: Emma, Match Score: 6\n",
            "\tFemale: Mary, Match Score: 5\n",
            "Male: Robert\n",
            "\tFemale: Emma, Match Score: 5\n",
            "\tFemale: Sophia, Match Score: 5\n",
            "Male: Peter\n",
            "\tFemale: Isabella, Match Score: 5\n",
            "\tFemale: Olivia, Match Score: 4\n",
            "Male: Eric\n",
            "\tFemale: Emma, Match Score: 4\n",
            "\tFemale: Martha, Match Score: 4\n",
            "Male: Daniel\n",
            "\tFemale: Emma, Match Score: 8\n",
            "\tFemale: Olivia, Match Score: 2\n",
            "Male: Adam\n",
            "\tFemale: Laura, Match Score: 6\n",
            "\tFemale: Jennifer, Match Score: 6\n",
            "Male: Carl\n",
            "\tFemale: Laura, Match Score: 8\n",
            "\tFemale: Olivia, Match Score: 7\n",
            "Male: Ralph\n",
            "\tFemale: Isabella, Match Score: 8\n",
            "\tFemale: Olivia, Match Score: 5\n"
          ]
        }
      ]
    },
    {
      "cell_type": "code",
      "source": [],
      "metadata": {
        "id": "XM2uDXbBCjUZ"
      },
      "execution_count": null,
      "outputs": []
    }
  ]
}