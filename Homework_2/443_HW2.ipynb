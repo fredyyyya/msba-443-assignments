{
  "nbformat": 4,
  "nbformat_minor": 0,
  "metadata": {
    "colab": {
      "provenance": [],
      "collapsed_sections": [
        "JnFpD_qUwh-K",
        "DiQJi1HNkesH",
        "ObkpRQM4wpDl",
        "3Yhso5zOmGBW",
        "W6aap3Oh2QEA",
        "0pg4DR_dmr_B"
      ]
    },
    "kernelspec": {
      "name": "python3",
      "display_name": "Python 3"
    },
    "language_info": {
      "name": "python"
    }
  },
  "cells": [
    {
      "cell_type": "markdown",
      "source": [
        "## 443 Homework 2 - B2B Pricing\n",
        "### Shaolong \"Fred\" Xue"
      ],
      "metadata": {
        "id": "hH4-eGy9Sat7"
      }
    },
    {
      "cell_type": "markdown",
      "source": [
        "### **Set-up**"
      ],
      "metadata": {
        "id": "JnFpD_qUwh-K"
      }
    },
    {
      "cell_type": "code",
      "source": [
        "import pandas as pd\n",
        "import numpy as np\n",
        "from sklearn.model_selection import train_test_split\n",
        "import statsmodels.api as sm\n",
        "import matplotlib.pyplot as plt\n",
        "from scipy.optimize import minimize, minimize_scalar"
      ],
      "metadata": {
        "id": "gK005B7vS1I2"
      },
      "execution_count": 2,
      "outputs": []
    },
    {
      "cell_type": "code",
      "source": [
        "link = \"https://raw.githubusercontent.com/ormarketing/b2b/master/data.csv\"\n",
        "data = pd.read_csv(link)"
      ],
      "metadata": {
        "id": "px3SXhiGSgFO"
      },
      "execution_count": 3,
      "outputs": []
    },
    {
      "cell_type": "code",
      "source": [
        "# Rewrite stage variable\n",
        "data.loc[data['Stage'].str.contains('Won'), 'Stage'] = 'Won'\n",
        "data.loc[data['Stage'].str.contains('Lost'), 'Stage'] = 'Lost'"
      ],
      "metadata": {
        "id": "nNKDQmqtS-Y-"
      },
      "execution_count": 4,
      "outputs": []
    },
    {
      "cell_type": "code",
      "source": [
        "# One hot encode the type variable\n",
        "one_hot_encoded = pd.get_dummies(data['Type'], prefix='Type')\n",
        "data = pd.concat([data, one_hot_encoded], axis=1)"
      ],
      "metadata": {
        "id": "-IC57s5rUvXe"
      },
      "execution_count": 5,
      "outputs": []
    },
    {
      "cell_type": "code",
      "source": [
        "# Rename columns\n",
        "data.rename(columns={'Type_Direct - Cloud Product': 'Direct Cloud', 'Type_Direct - OnPremise Product': 'Direct OnPrem', \n",
        "                     'Type_Partner - Cloud Product': 'Partner Cloud', 'Type_Partner - OnPremise Product': 'Partner OnPrem'}, inplace=True)"
      ],
      "metadata": {
        "id": "sI2B1xgBVTPT"
      },
      "execution_count": 6,
      "outputs": []
    },
    {
      "cell_type": "code",
      "source": [
        "data['Amount'] = pd.to_numeric(data[' Amount '], errors='coerce')\n",
        "data['Net Amount'] = pd.to_numeric(data[' Net Amount '], errors='coerce')\n",
        "data['Discount'] = data['Amount'] - data['Net Amount']"
      ],
      "metadata": {
        "id": "mEWandaPWeiD"
      },
      "execution_count": 7,
      "outputs": []
    },
    {
      "cell_type": "code",
      "source": [
        "data = data.drop([' ACV ',' Discount Amount ',' Amount ', ' Net Amount ', 'Type', 'Billing Plan'],axis=1)"
      ],
      "metadata": {
        "id": "liIbHwggXv38"
      },
      "execution_count": 8,
      "outputs": []
    },
    {
      "cell_type": "code",
      "source": [
        "na_counts = data.isna().sum()"
      ],
      "metadata": {
        "id": "sS8gZ-38YPGR"
      },
      "execution_count": 9,
      "outputs": []
    },
    {
      "cell_type": "code",
      "source": [
        "print(na_counts)"
      ],
      "metadata": {
        "colab": {
          "base_uri": "https://localhost:8080/"
        },
        "id": "k8PxTCwDYpiX",
        "outputId": "2065e40c-2776-428d-d308-4629e6614e18"
      },
      "execution_count": 10,
      "outputs": [
        {
          "output_type": "stream",
          "name": "stdout",
          "text": [
            "ID                 0\n",
            "Close Date         0\n",
            "Created Date       0\n",
            "New Logo           0\n",
            "Stage              0\n",
            "Direct Cloud       0\n",
            "Direct OnPrem      0\n",
            "Partner Cloud      0\n",
            "Partner OnPrem     0\n",
            "Amount            49\n",
            "Net Amount        49\n",
            "Discount          50\n",
            "dtype: int64\n"
          ]
        }
      ]
    },
    {
      "cell_type": "code",
      "source": [
        "# Create binary outcome variable\n",
        "data['y'] = np.where(data['Stage'] == 'Won', 1.0, 0.0)\n",
        "\n",
        "# Convert Close Date to datetime format\n",
        "data['Close Date'] = pd.to_datetime(data['Close Date'])\n",
        "\n",
        "# Create quarter variable to capture end of the quarter effect\n",
        "data['Quarter'] = data['Close Date'].dt.quarter\n",
        "data['Quarter'] = data['Quarter'].astype(str)\n",
        "# One hot encode the Quarter variable\n",
        "one_hot_encoded2 = pd.get_dummies(data['Quarter'], prefix='Quarter')\n",
        "data = pd.concat([data, one_hot_encoded2], axis=1)\n",
        "# Rename columns\n",
        "data.rename(columns={'Quarter_1': 'Q1', 'Quarter_2': 'Q2', \n",
        "                     'Quarter_3': 'Q3', 'Quarter_4': 'Q4'}, inplace=True)\n",
        "data = data.drop(['Quarter'], axis=1)"
      ],
      "metadata": {
        "id": "x-mOlEQcYrNR"
      },
      "execution_count": 11,
      "outputs": []
    },
    {
      "cell_type": "code",
      "source": [
        "# Create Month variable\n",
        "data['Month'] = data['Close Date'].dt.month\n",
        "one_hot_encoded3 = pd.get_dummies(data['Month'], prefix='Month')\n",
        "data = pd.concat([data, one_hot_encoded3], axis=1)"
      ],
      "metadata": {
        "id": "DA5klKNZyBIj"
      },
      "execution_count": 12,
      "outputs": []
    },
    {
      "cell_type": "code",
      "source": [
        "data.head(5)"
      ],
      "metadata": {
        "colab": {
          "base_uri": "https://localhost:8080/",
          "height": 297
        },
        "id": "F1do61v3kk_p",
        "outputId": "075f2a87-b91f-4b63-affd-9327711a2ce8"
      },
      "execution_count": 13,
      "outputs": [
        {
          "output_type": "execute_result",
          "data": {
            "text/plain": [
              "   ID Close Date Created Date  New Logo Stage  Direct Cloud  Direct OnPrem  \\\n",
              "0   1 2017-05-26       5/4/17         1  Lost             1              0   \n",
              "1   2 2016-12-29     11/29/16         1   Won             0              0   \n",
              "2   3 2016-12-29      12/9/16         1   Won             0              0   \n",
              "3   4 2016-09-09      4/20/16         1   Won             1              0   \n",
              "4   5 2016-09-22       9/1/16         1   Won             0              0   \n",
              "\n",
              "   Partner Cloud  Partner OnPrem    Amount  ...  Month_3  Month_4  Month_5  \\\n",
              "0              0               0  225000.0  ...        0        0        1   \n",
              "1              0               1  147000.0  ...        0        0        0   \n",
              "2              1               0   96000.0  ...        0        0        0   \n",
              "3              0               0  128000.0  ...        0        0        0   \n",
              "4              0               1   66000.0  ...        0        0        0   \n",
              "\n",
              "   Month_6  Month_7  Month_8  Month_9  Month_10  Month_11  Month_12  \n",
              "0        0        0        0        0         0         0         0  \n",
              "1        0        0        0        0         0         0         1  \n",
              "2        0        0        0        0         0         0         1  \n",
              "3        0        0        0        1         0         0         0  \n",
              "4        0        0        0        1         0         0         0  \n",
              "\n",
              "[5 rows x 30 columns]"
            ],
            "text/html": [
              "\n",
              "  <div id=\"df-9ac52b9f-a341-4b1a-b48e-1ce437ee4a65\">\n",
              "    <div class=\"colab-df-container\">\n",
              "      <div>\n",
              "<style scoped>\n",
              "    .dataframe tbody tr th:only-of-type {\n",
              "        vertical-align: middle;\n",
              "    }\n",
              "\n",
              "    .dataframe tbody tr th {\n",
              "        vertical-align: top;\n",
              "    }\n",
              "\n",
              "    .dataframe thead th {\n",
              "        text-align: right;\n",
              "    }\n",
              "</style>\n",
              "<table border=\"1\" class=\"dataframe\">\n",
              "  <thead>\n",
              "    <tr style=\"text-align: right;\">\n",
              "      <th></th>\n",
              "      <th>ID</th>\n",
              "      <th>Close Date</th>\n",
              "      <th>Created Date</th>\n",
              "      <th>New Logo</th>\n",
              "      <th>Stage</th>\n",
              "      <th>Direct Cloud</th>\n",
              "      <th>Direct OnPrem</th>\n",
              "      <th>Partner Cloud</th>\n",
              "      <th>Partner OnPrem</th>\n",
              "      <th>Amount</th>\n",
              "      <th>...</th>\n",
              "      <th>Month_3</th>\n",
              "      <th>Month_4</th>\n",
              "      <th>Month_5</th>\n",
              "      <th>Month_6</th>\n",
              "      <th>Month_7</th>\n",
              "      <th>Month_8</th>\n",
              "      <th>Month_9</th>\n",
              "      <th>Month_10</th>\n",
              "      <th>Month_11</th>\n",
              "      <th>Month_12</th>\n",
              "    </tr>\n",
              "  </thead>\n",
              "  <tbody>\n",
              "    <tr>\n",
              "      <th>0</th>\n",
              "      <td>1</td>\n",
              "      <td>2017-05-26</td>\n",
              "      <td>5/4/17</td>\n",
              "      <td>1</td>\n",
              "      <td>Lost</td>\n",
              "      <td>1</td>\n",
              "      <td>0</td>\n",
              "      <td>0</td>\n",
              "      <td>0</td>\n",
              "      <td>225000.0</td>\n",
              "      <td>...</td>\n",
              "      <td>0</td>\n",
              "      <td>0</td>\n",
              "      <td>1</td>\n",
              "      <td>0</td>\n",
              "      <td>0</td>\n",
              "      <td>0</td>\n",
              "      <td>0</td>\n",
              "      <td>0</td>\n",
              "      <td>0</td>\n",
              "      <td>0</td>\n",
              "    </tr>\n",
              "    <tr>\n",
              "      <th>1</th>\n",
              "      <td>2</td>\n",
              "      <td>2016-12-29</td>\n",
              "      <td>11/29/16</td>\n",
              "      <td>1</td>\n",
              "      <td>Won</td>\n",
              "      <td>0</td>\n",
              "      <td>0</td>\n",
              "      <td>0</td>\n",
              "      <td>1</td>\n",
              "      <td>147000.0</td>\n",
              "      <td>...</td>\n",
              "      <td>0</td>\n",
              "      <td>0</td>\n",
              "      <td>0</td>\n",
              "      <td>0</td>\n",
              "      <td>0</td>\n",
              "      <td>0</td>\n",
              "      <td>0</td>\n",
              "      <td>0</td>\n",
              "      <td>0</td>\n",
              "      <td>1</td>\n",
              "    </tr>\n",
              "    <tr>\n",
              "      <th>2</th>\n",
              "      <td>3</td>\n",
              "      <td>2016-12-29</td>\n",
              "      <td>12/9/16</td>\n",
              "      <td>1</td>\n",
              "      <td>Won</td>\n",
              "      <td>0</td>\n",
              "      <td>0</td>\n",
              "      <td>1</td>\n",
              "      <td>0</td>\n",
              "      <td>96000.0</td>\n",
              "      <td>...</td>\n",
              "      <td>0</td>\n",
              "      <td>0</td>\n",
              "      <td>0</td>\n",
              "      <td>0</td>\n",
              "      <td>0</td>\n",
              "      <td>0</td>\n",
              "      <td>0</td>\n",
              "      <td>0</td>\n",
              "      <td>0</td>\n",
              "      <td>1</td>\n",
              "    </tr>\n",
              "    <tr>\n",
              "      <th>3</th>\n",
              "      <td>4</td>\n",
              "      <td>2016-09-09</td>\n",
              "      <td>4/20/16</td>\n",
              "      <td>1</td>\n",
              "      <td>Won</td>\n",
              "      <td>1</td>\n",
              "      <td>0</td>\n",
              "      <td>0</td>\n",
              "      <td>0</td>\n",
              "      <td>128000.0</td>\n",
              "      <td>...</td>\n",
              "      <td>0</td>\n",
              "      <td>0</td>\n",
              "      <td>0</td>\n",
              "      <td>0</td>\n",
              "      <td>0</td>\n",
              "      <td>0</td>\n",
              "      <td>1</td>\n",
              "      <td>0</td>\n",
              "      <td>0</td>\n",
              "      <td>0</td>\n",
              "    </tr>\n",
              "    <tr>\n",
              "      <th>4</th>\n",
              "      <td>5</td>\n",
              "      <td>2016-09-22</td>\n",
              "      <td>9/1/16</td>\n",
              "      <td>1</td>\n",
              "      <td>Won</td>\n",
              "      <td>0</td>\n",
              "      <td>0</td>\n",
              "      <td>0</td>\n",
              "      <td>1</td>\n",
              "      <td>66000.0</td>\n",
              "      <td>...</td>\n",
              "      <td>0</td>\n",
              "      <td>0</td>\n",
              "      <td>0</td>\n",
              "      <td>0</td>\n",
              "      <td>0</td>\n",
              "      <td>0</td>\n",
              "      <td>1</td>\n",
              "      <td>0</td>\n",
              "      <td>0</td>\n",
              "      <td>0</td>\n",
              "    </tr>\n",
              "  </tbody>\n",
              "</table>\n",
              "<p>5 rows × 30 columns</p>\n",
              "</div>\n",
              "      <button class=\"colab-df-convert\" onclick=\"convertToInteractive('df-9ac52b9f-a341-4b1a-b48e-1ce437ee4a65')\"\n",
              "              title=\"Convert this dataframe to an interactive table.\"\n",
              "              style=\"display:none;\">\n",
              "        \n",
              "  <svg xmlns=\"http://www.w3.org/2000/svg\" height=\"24px\"viewBox=\"0 0 24 24\"\n",
              "       width=\"24px\">\n",
              "    <path d=\"M0 0h24v24H0V0z\" fill=\"none\"/>\n",
              "    <path d=\"M18.56 5.44l.94 2.06.94-2.06 2.06-.94-2.06-.94-.94-2.06-.94 2.06-2.06.94zm-11 1L8.5 8.5l.94-2.06 2.06-.94-2.06-.94L8.5 2.5l-.94 2.06-2.06.94zm10 10l.94 2.06.94-2.06 2.06-.94-2.06-.94-.94-2.06-.94 2.06-2.06.94z\"/><path d=\"M17.41 7.96l-1.37-1.37c-.4-.4-.92-.59-1.43-.59-.52 0-1.04.2-1.43.59L10.3 9.45l-7.72 7.72c-.78.78-.78 2.05 0 2.83L4 21.41c.39.39.9.59 1.41.59.51 0 1.02-.2 1.41-.59l7.78-7.78 2.81-2.81c.8-.78.8-2.07 0-2.86zM5.41 20L4 18.59l7.72-7.72 1.47 1.35L5.41 20z\"/>\n",
              "  </svg>\n",
              "      </button>\n",
              "      \n",
              "  <style>\n",
              "    .colab-df-container {\n",
              "      display:flex;\n",
              "      flex-wrap:wrap;\n",
              "      gap: 12px;\n",
              "    }\n",
              "\n",
              "    .colab-df-convert {\n",
              "      background-color: #E8F0FE;\n",
              "      border: none;\n",
              "      border-radius: 50%;\n",
              "      cursor: pointer;\n",
              "      display: none;\n",
              "      fill: #1967D2;\n",
              "      height: 32px;\n",
              "      padding: 0 0 0 0;\n",
              "      width: 32px;\n",
              "    }\n",
              "\n",
              "    .colab-df-convert:hover {\n",
              "      background-color: #E2EBFA;\n",
              "      box-shadow: 0px 1px 2px rgba(60, 64, 67, 0.3), 0px 1px 3px 1px rgba(60, 64, 67, 0.15);\n",
              "      fill: #174EA6;\n",
              "    }\n",
              "\n",
              "    [theme=dark] .colab-df-convert {\n",
              "      background-color: #3B4455;\n",
              "      fill: #D2E3FC;\n",
              "    }\n",
              "\n",
              "    [theme=dark] .colab-df-convert:hover {\n",
              "      background-color: #434B5C;\n",
              "      box-shadow: 0px 1px 3px 1px rgba(0, 0, 0, 0.15);\n",
              "      filter: drop-shadow(0px 1px 2px rgba(0, 0, 0, 0.3));\n",
              "      fill: #FFFFFF;\n",
              "    }\n",
              "  </style>\n",
              "\n",
              "      <script>\n",
              "        const buttonEl =\n",
              "          document.querySelector('#df-9ac52b9f-a341-4b1a-b48e-1ce437ee4a65 button.colab-df-convert');\n",
              "        buttonEl.style.display =\n",
              "          google.colab.kernel.accessAllowed ? 'block' : 'none';\n",
              "\n",
              "        async function convertToInteractive(key) {\n",
              "          const element = document.querySelector('#df-9ac52b9f-a341-4b1a-b48e-1ce437ee4a65');\n",
              "          const dataTable =\n",
              "            await google.colab.kernel.invokeFunction('convertToInteractive',\n",
              "                                                     [key], {});\n",
              "          if (!dataTable) return;\n",
              "\n",
              "          const docLinkHtml = 'Like what you see? Visit the ' +\n",
              "            '<a target=\"_blank\" href=https://colab.research.google.com/notebooks/data_table.ipynb>data table notebook</a>'\n",
              "            + ' to learn more about interactive tables.';\n",
              "          element.innerHTML = '';\n",
              "          dataTable['output_type'] = 'display_data';\n",
              "          await google.colab.output.renderOutput(dataTable, element);\n",
              "          const docLink = document.createElement('div');\n",
              "          docLink.innerHTML = docLinkHtml;\n",
              "          element.appendChild(docLink);\n",
              "        }\n",
              "      </script>\n",
              "    </div>\n",
              "  </div>\n",
              "  "
            ]
          },
          "metadata": {},
          "execution_count": 13
        }
      ]
    },
    {
      "cell_type": "code",
      "source": [
        "data.dtypes"
      ],
      "metadata": {
        "colab": {
          "base_uri": "https://localhost:8080/"
        },
        "id": "VK21aJDftd4K",
        "outputId": "b266b96e-aee4-4b26-c675-5484f43734a0"
      },
      "execution_count": 14,
      "outputs": [
        {
          "output_type": "execute_result",
          "data": {
            "text/plain": [
              "ID                         int64\n",
              "Close Date        datetime64[ns]\n",
              "Created Date              object\n",
              "New Logo                   int64\n",
              "Stage                     object\n",
              "Direct Cloud               uint8\n",
              "Direct OnPrem              uint8\n",
              "Partner Cloud              uint8\n",
              "Partner OnPrem             uint8\n",
              "Amount                   float64\n",
              "Net Amount               float64\n",
              "Discount                 float64\n",
              "y                        float64\n",
              "Q1                         uint8\n",
              "Q2                         uint8\n",
              "Q3                         uint8\n",
              "Q4                         uint8\n",
              "Month                      int64\n",
              "Month_1                    uint8\n",
              "Month_2                    uint8\n",
              "Month_3                    uint8\n",
              "Month_4                    uint8\n",
              "Month_5                    uint8\n",
              "Month_6                    uint8\n",
              "Month_7                    uint8\n",
              "Month_8                    uint8\n",
              "Month_9                    uint8\n",
              "Month_10                   uint8\n",
              "Month_11                   uint8\n",
              "Month_12                   uint8\n",
              "dtype: object"
            ]
          },
          "metadata": {},
          "execution_count": 14
        }
      ]
    },
    {
      "cell_type": "markdown",
      "source": [
        "### **Split the data**"
      ],
      "metadata": {
        "id": "DiQJi1HNkesH"
      }
    },
    {
      "cell_type": "code",
      "source": [
        "train_data, test_data = train_test_split(data, test_size=0.2, random_state=42)"
      ],
      "metadata": {
        "id": "T6XshxoPl3Hz"
      },
      "execution_count": 43,
      "outputs": []
    },
    {
      "cell_type": "markdown",
      "source": [
        "We used a 8-2 ratio to split the data into training and test sets. "
      ],
      "metadata": {
        "id": "_KTsBP0Hl6Ap"
      }
    },
    {
      "cell_type": "markdown",
      "source": [
        "### **End-of-the-Quarter Effect**"
      ],
      "metadata": {
        "id": "ObkpRQM4wpDl"
      }
    },
    {
      "cell_type": "code",
      "source": [
        "# Calculate the average discount amount in each month\n",
        "avg_discount = data.groupby('Month')['Discount'].mean()\n",
        "\n",
        "# Plot the average discount amount by month\n",
        "plt.figure(figsize=(10, 6))\n",
        "avg_discount.plot(kind='bar', color='blue')\n",
        "plt.xlabel('Month')\n",
        "plt.ylabel('Average Discount Amount')\n",
        "plt.title('Average Discount Amount by Month')\n",
        "plt.xticks(rotation=45)\n",
        "plt.tight_layout()\n",
        "plt.show()"
      ],
      "metadata": {
        "colab": {
          "base_uri": "https://localhost:8080/",
          "height": 607
        },
        "id": "u2-cWRDPymRS",
        "outputId": "c39373b5-df10-4caf-8cd7-7b6b6820e787"
      },
      "execution_count": 16,
      "outputs": [
        {
          "output_type": "display_data",
          "data": {
            "text/plain": [
              "<Figure size 1000x600 with 1 Axes>"
            ],
            "image/png": "[encoded data removed]"
          },
          "metadata": {}
        }
      ]
    },
    {
      "cell_type": "markdown",
      "source": [
        "From the plot, end of the quarter months (March, June, September, and December) all have visibly higher average discount amount than the rest of the months. \n",
        "\n",
        "Visually, the end-of-the-quarter effect seems true. "
      ],
      "metadata": {
        "id": "o-uLNj2gzyvT"
      }
    },
    {
      "cell_type": "code",
      "source": [
        "y_train = train_data['Discount']\n",
        "x_train = train_data[['Month_2', 'Month_3','Month_4', 'Month_5',\n",
        "                      'Month_6', 'Month_7','Month_8', 'Month_9', \n",
        "                      'Month_10', 'Month_11','Month_12']]\n",
        "x_train = sm.add_constant(x_train)\n",
        "ols = sm.OLS(y_train, x_train, missing='drop')\n",
        "results = ols.fit()\n",
        "print(results.summary())"
      ],
      "metadata": {
        "colab": {
          "base_uri": "https://localhost:8080/"
        },
        "id": "R6rWOwCgws88",
        "outputId": "47b28429-5a2b-460d-8a73-e7ce045284a4"
      },
      "execution_count": 17,
      "outputs": [
        {
          "output_type": "stream",
          "name": "stdout",
          "text": [
            "                            OLS Regression Results                            \n",
            "==============================================================================\n",
            "Dep. Variable:               Discount   R-squared:                       0.031\n",
            "Model:                            OLS   Adj. R-squared:                  0.022\n",
            "Method:                 Least Squares   F-statistic:                     3.339\n",
            "Date:                Wed, 07 Jun 2023   Prob (F-statistic):           0.000151\n",
            "Time:                        15:31:24   Log-Likelihood:                -14369.\n",
            "No. Observations:                1165   AIC:                         2.876e+04\n",
            "Df Residuals:                    1153   BIC:                         2.882e+04\n",
            "Df Model:                          11                                         \n",
            "Covariance Type:            nonrobust                                         \n",
            "==============================================================================\n",
            "                 coef    std err          t      P>|t|      [0.025      0.975]\n",
            "------------------------------------------------------------------------------\n",
            "const       6345.7980   5553.875      1.143      0.253   -4551.036    1.72e+04\n",
            "Month_2     -853.9955   8279.228     -0.103      0.918   -1.71e+04    1.54e+04\n",
            "Month_3     1.253e+04   7174.865      1.746      0.081   -1547.329    2.66e+04\n",
            "Month_4     1046.7020   8145.781      0.128      0.898   -1.49e+04     1.7e+04\n",
            "Month_5     7799.6892   8366.339      0.932      0.351   -8615.264    2.42e+04\n",
            "Month_6     2.322e+04   7408.810      3.134      0.002    8683.265    3.78e+04\n",
            "Month_7     2659.2915   7461.395      0.356      0.722    -1.2e+04    1.73e+04\n",
            "Month_8     7534.2994   7607.200      0.990      0.322   -7391.206    2.25e+04\n",
            "Month_9     1.511e+04   8525.088      1.772      0.077   -1620.551    3.18e+04\n",
            "Month_10   -4415.2173   8949.797     -0.493      0.622    -2.2e+04    1.31e+04\n",
            "Month_11   -1483.5776   9088.635     -0.163      0.870   -1.93e+04    1.63e+04\n",
            "Month_12    2.702e+04   7561.124      3.573      0.000    1.22e+04    4.19e+04\n",
            "==============================================================================\n",
            "Omnibus:                     1974.392   Durbin-Watson:                   1.976\n",
            "Prob(Omnibus):                  0.000   Jarque-Bera (JB):          1407727.433\n",
            "Skew:                          10.995   Prob(JB):                         0.00\n",
            "Kurtosis:                     171.869   Cond. No.                         12.9\n",
            "==============================================================================\n",
            "\n",
            "Notes:\n",
            "[1] Standard Errors assume that the covariance matrix of the errors is correctly specified.\n"
          ]
        }
      ]
    },
    {
      "cell_type": "markdown",
      "source": [
        "From the OLS regression, it shows June and December are statistically significant under 0.05 alpha, and these months bring a much higher discount on average than January, comparing to other months. \n",
        "\n",
        "Therefore, we can safely conclude the end-of-the-quarter effect is true."
      ],
      "metadata": {
        "id": "6gdNC3qG0fP-"
      }
    },
    {
      "cell_type": "markdown",
      "source": [
        "### **Modeling**"
      ],
      "metadata": {
        "id": "3Yhso5zOmGBW"
      }
    },
    {
      "cell_type": "code",
      "source": [
        "y_train = train_data['y']\n",
        "x_train = train_data[['Discount', 'Amount', 'New Logo', 'Q1', 'Q2', 'Q3']]\n",
        "x_train = sm.add_constant(x_train)\n",
        "model = sm.Logit(y_train, x_train, missing='drop')\n",
        "results = model.fit()\n",
        "print(results.summary())"
      ],
      "metadata": {
        "colab": {
          "base_uri": "https://localhost:8080/"
        },
        "id": "Bml4XQkxrGZT",
        "outputId": "26aeed0c-44e9-4404-ae04-2cfc861e8b1b"
      },
      "execution_count": 44,
      "outputs": [
        {
          "output_type": "stream",
          "name": "stdout",
          "text": [
            "Optimization terminated successfully.\n",
            "         Current function value: 0.413617\n",
            "         Iterations 8\n",
            "                           Logit Regression Results                           \n",
            "==============================================================================\n",
            "Dep. Variable:                      y   No. Observations:                 1165\n",
            "Model:                          Logit   Df Residuals:                     1158\n",
            "Method:                           MLE   Df Model:                            6\n",
            "Date:                Wed, 07 Jun 2023   Pseudo R-squ.:                  0.3732\n",
            "Time:                        15:40:48   Log-Likelihood:                -481.86\n",
            "converged:                       True   LL-Null:                       -768.71\n",
            "Covariance Type:            nonrobust   LLR p-value:                1.096e-120\n",
            "==============================================================================\n",
            "                 coef    std err          z      P>|z|      [0.025      0.975]\n",
            "------------------------------------------------------------------------------\n",
            "const         -0.6254      0.169     -3.703      0.000      -0.956      -0.294\n",
            "Discount    3.455e-05   5.72e-06      6.044      0.000    2.33e-05    4.58e-05\n",
            "Amount     -2.638e-06    1.4e-06     -1.883      0.060   -5.38e-06    1.08e-07\n",
            "New Logo       3.6076      0.282     12.790      0.000       3.055       4.160\n",
            "Q1            -1.9001      0.282     -6.731      0.000      -2.453      -1.347\n",
            "Q2            -2.9633      0.333     -8.889      0.000      -3.617      -2.310\n",
            "Q3            -3.5872      0.339    -10.588      0.000      -4.251      -2.923\n",
            "==============================================================================\n"
          ]
        }
      ]
    },
    {
      "cell_type": "code",
      "source": [
        "y_train = train_data['y']\n",
        "# Removed Partner OnPrem to avoid perfert multicolinearity\n",
        "x_train = train_data[['Discount', 'Amount', 'New Logo', \n",
        "                      'Q1', 'Q2', 'Q3', \n",
        "                      'Direct Cloud', 'Direct OnPrem', 'Partner Cloud']]\n",
        "model2 = sm.Logit(y_train, x_train, missing='drop')\n",
        "results = model2.fit()\n",
        "print(results.summary())"
      ],
      "metadata": {
        "colab": {
          "base_uri": "https://localhost:8080/"
        },
        "id": "Hh5bxKqamJD_",
        "outputId": "d4cdac93-f561-498c-a19c-ce3fbbd549d9"
      },
      "execution_count": 45,
      "outputs": [
        {
          "output_type": "stream",
          "name": "stdout",
          "text": [
            "Optimization terminated successfully.\n",
            "         Current function value: 0.401327\n",
            "         Iterations 8\n",
            "                           Logit Regression Results                           \n",
            "==============================================================================\n",
            "Dep. Variable:                      y   No. Observations:                 1165\n",
            "Model:                          Logit   Df Residuals:                     1156\n",
            "Method:                           MLE   Df Model:                            8\n",
            "Date:                Wed, 07 Jun 2023   Pseudo R-squ.:                  0.3918\n",
            "Time:                        15:40:48   Log-Likelihood:                -467.55\n",
            "converged:                       True   LL-Null:                       -768.71\n",
            "Covariance Type:            nonrobust   LLR p-value:                7.357e-125\n",
            "=================================================================================\n",
            "                    coef    std err          z      P>|z|      [0.025      0.975]\n",
            "---------------------------------------------------------------------------------\n",
            "Discount       3.359e-05   5.77e-06      5.822      0.000    2.23e-05    4.49e-05\n",
            "Amount        -3.649e-06   1.53e-06     -2.377      0.017   -6.66e-06    -6.4e-07\n",
            "New Logo          3.6875      0.290     12.727      0.000       3.120       4.255\n",
            "Q1               -2.1618      0.256     -8.454      0.000      -2.663      -1.661\n",
            "Q2               -3.1297      0.315     -9.946      0.000      -3.746      -2.513\n",
            "Q3               -3.7736      0.321    -11.743      0.000      -4.403      -3.144\n",
            "Direct Cloud     -1.5530      0.406     -3.826      0.000      -2.348      -0.757\n",
            "Direct OnPrem    -1.0279      0.191     -5.377      0.000      -1.403      -0.653\n",
            "Partner Cloud    -0.4545      0.235     -1.937      0.053      -0.914       0.005\n",
            "=================================================================================\n"
          ]
        }
      ]
    },
    {
      "cell_type": "code",
      "source": [
        "y_train = train_data['y']\n",
        "# Removed Partner OnPrem to avoid perfert multicolinearity\n",
        "x_train = train_data[['Discount', 'Amount', 'New Logo', \n",
        "                      'Direct Cloud', 'Direct OnPrem', 'Partner Cloud']]\n",
        "model3 = sm.Logit(y_train, x_train, missing='drop')\n",
        "results = model3.fit()\n",
        "print(results.summary())"
      ],
      "metadata": {
        "colab": {
          "base_uri": "https://localhost:8080/"
        },
        "id": "nWoeoyCFEoNp",
        "outputId": "34e035fb-9550-4fa8-9529-50727b94c331"
      },
      "execution_count": 46,
      "outputs": [
        {
          "output_type": "stream",
          "name": "stdout",
          "text": [
            "Optimization terminated successfully.\n",
            "         Current function value: 0.511236\n",
            "         Iterations 8\n",
            "                           Logit Regression Results                           \n",
            "==============================================================================\n",
            "Dep. Variable:                      y   No. Observations:                 1165\n",
            "Model:                          Logit   Df Residuals:                     1159\n",
            "Method:                           MLE   Df Model:                            5\n",
            "Date:                Wed, 07 Jun 2023   Pseudo R-squ.:                  0.2252\n",
            "Time:                        15:40:48   Log-Likelihood:                -595.59\n",
            "converged:                       True   LL-Null:                       -768.71\n",
            "Covariance Type:            nonrobust   LLR p-value:                 1.124e-72\n",
            "=================================================================================\n",
            "                    coef    std err          z      P>|z|      [0.025      0.975]\n",
            "---------------------------------------------------------------------------------\n",
            "Discount       6.004e-05   6.45e-06      9.314      0.000    4.74e-05    7.27e-05\n",
            "Amount        -1.439e-05   1.68e-06     -8.570      0.000   -1.77e-05   -1.11e-05\n",
            "New Logo          1.2573      0.141      8.937      0.000       0.982       1.533\n",
            "Direct Cloud     -1.8037      0.370     -4.877      0.000      -2.529      -1.079\n",
            "Direct OnPrem    -1.6447      0.172     -9.574      0.000      -1.981      -1.308\n",
            "Partner Cloud    -0.6491      0.216     -2.998      0.003      -1.073      -0.225\n",
            "=================================================================================\n"
          ]
        }
      ]
    },
    {
      "cell_type": "code",
      "source": [
        "y_train = train_data['y']\n",
        "# Removed Partner OnPrem to avoid perfert multicolinearity\n",
        "x_train = train_data[['Discount', 'Amount', 'New Logo', \n",
        "                      'Direct Cloud', 'Direct OnPrem', 'Partner Cloud',\n",
        "                      'Month_2', 'Month_3','Month_4', 'Month_5',\n",
        "                      'Month_6', 'Month_7','Month_8', 'Month_9', \n",
        "                      'Month_10', 'Month_11','Month_12']]\n",
        "model4 = sm.Logit(y_train, x_train, missing='drop')\n",
        "results = model4.fit()\n",
        "print(results.summary())"
      ],
      "metadata": {
        "colab": {
          "base_uri": "https://localhost:8080/"
        },
        "id": "ufnaootUhPJ3",
        "outputId": "33e2d3f3-c5a1-4355-aad4-891abf4c54fe"
      },
      "execution_count": 51,
      "outputs": [
        {
          "output_type": "stream",
          "name": "stdout",
          "text": [
            "Optimization terminated successfully.\n",
            "         Current function value: 0.378157\n",
            "         Iterations 8\n",
            "                           Logit Regression Results                           \n",
            "==============================================================================\n",
            "Dep. Variable:                      y   No. Observations:                 1165\n",
            "Model:                          Logit   Df Residuals:                     1148\n",
            "Method:                           MLE   Df Model:                           16\n",
            "Date:                Wed, 07 Jun 2023   Pseudo R-squ.:                  0.4269\n",
            "Time:                        15:42:00   Log-Likelihood:                -440.55\n",
            "converged:                       True   LL-Null:                       -768.71\n",
            "Covariance Type:            nonrobust   LLR p-value:                2.517e-129\n",
            "=================================================================================\n",
            "                    coef    std err          z      P>|z|      [0.025      0.975]\n",
            "---------------------------------------------------------------------------------\n",
            "Discount       3.536e-05   5.99e-06      5.905      0.000    2.36e-05    4.71e-05\n",
            "Amount        -7.775e-06   1.77e-06     -4.400      0.000   -1.12e-05   -4.31e-06\n",
            "New Logo          3.8855      0.320     12.128      0.000       3.258       4.513\n",
            "Direct Cloud     -1.6602      0.455     -3.652      0.000      -2.551      -0.769\n",
            "Direct OnPrem    -1.2399      0.210     -5.911      0.000      -1.651      -0.829\n",
            "Partner Cloud    -0.4327      0.252     -1.715      0.086      -0.927       0.062\n",
            "Month_2          -2.2406      0.432     -5.183      0.000      -3.088      -1.393\n",
            "Month_3          -1.5099      0.354     -4.267      0.000      -2.203      -0.816\n",
            "Month_4          -3.1956      0.452     -7.074      0.000      -4.081      -2.310\n",
            "Month_5          -3.6165      0.436     -8.292      0.000      -4.471      -2.762\n",
            "Month_6          -2.5994      0.381     -6.825      0.000      -3.346      -1.853\n",
            "Month_7          -5.2784      0.467    -11.296      0.000      -6.194      -4.363\n",
            "Month_8          -3.6602      0.400     -9.143      0.000      -4.445      -2.876\n",
            "Month_9          -0.6606      0.379     -1.742      0.082      -1.404       0.083\n",
            "Month_10         -1.0160      0.388     -2.616      0.009      -1.777      -0.255\n",
            "Month_11          0.0454      0.314      0.145      0.885      -0.570       0.660\n",
            "Month_12          0.6295      0.267      2.358      0.018       0.106       1.153\n",
            "=================================================================================\n"
          ]
        }
      ]
    },
    {
      "cell_type": "markdown",
      "source": [
        "### **Computing Optimal Discount**"
      ],
      "metadata": {
        "id": "W6aap3Oh2QEA"
      }
    },
    {
      "cell_type": "code",
      "source": [
        "# Calculate the optimal discounts\n",
        "optimal_discounts = []\n",
        "\n",
        "# Loop to optimize discounts for each individual lead\n",
        "for _, row in test_data.iterrows():\n",
        "    UT = np.dot(row[['Amount', 'New Logo', \n",
        "                      'Direct Cloud', 'Direct OnPrem', 'Partner Cloud',\n",
        "                      'Month_2', 'Month_3','Month_4', 'Month_5',\n",
        "                      'Month_6', 'Month_7','Month_8', 'Month_9', \n",
        "                      'Month_10', 'Month_11','Month_12']], results.params[1:17])\n",
        "    b = results.params[0]\n",
        "    p = row['Amount']\n",
        "\n",
        "    def revenueD(d):\n",
        "        \"\"\"This is the negative revenue function\"\"\"\n",
        "        return -np.exp(UT + b * np.sqrt(d**2)) / (1 + np.exp(UT + b * np.sqrt(d**2))) * (p - np.sqrt(d**2))\n",
        "\n",
        "    sol = minimize_scalar(revenueD)\n",
        "    optimal_discounts.append(sol.x)\n",
        "\n",
        "# Add the optimal discounts to the hold-out sample\n",
        "test_data['Optimal Discount'] = optimal_discounts\n",
        "\n",
        "print(round(np.mean(optimal_discounts), 0), np.round(np.mean(test_data['Discount']), 0))"
      ],
      "metadata": {
        "colab": {
          "base_uri": "https://localhost:8080/"
        },
        "id": "Cicfbs1D9APh",
        "outputId": "85a362f3-a8d2-4cfe-df45-7cfa3cfc76b3"
      },
      "execution_count": 61,
      "outputs": [
        {
          "output_type": "stream",
          "name": "stdout",
          "text": [
            "19386.0 13241.0\n"
          ]
        }
      ]
    },
    {
      "cell_type": "code",
      "source": [
        "test_data.head(5)"
      ],
      "metadata": {
        "colab": {
          "base_uri": "https://localhost:8080/",
          "height": 384
        },
        "id": "8OFqMiKG2nVo",
        "outputId": "dea22818-ff70-4bf9-f6f4-6a1b104ad92b"
      },
      "execution_count": 66,
      "outputs": [
        {
          "output_type": "execute_result",
          "data": {
            "text/plain": [
              "        ID Close Date Created Date  New Logo Stage  Direct Cloud  \\\n",
              "51      52 2017-03-24      9/20/16         1   Won             0   \n",
              "976    977 2016-11-14     10/10/16         0  Lost             0   \n",
              "184    185 2017-07-06       4/7/17         1   Won             0   \n",
              "1001  1002 2017-06-16     12/12/16         1   Won             0   \n",
              "746    747 2016-03-01     10/19/15         0  Lost             0   \n",
              "\n",
              "      Direct OnPrem  Partner Cloud  Partner OnPrem    Amount  ...  Month_4  \\\n",
              "51                0              1               0  225000.0  ...        0   \n",
              "976               0              0               1   50000.0  ...        0   \n",
              "184               0              0               1  157500.0  ...        0   \n",
              "1001              0              0               1  750000.0  ...        0   \n",
              "746               1              0               0   13780.0  ...        0   \n",
              "\n",
              "      Month_5  Month_6  Month_7  Month_8  Month_9  Month_10  Month_11  \\\n",
              "51          0        0        0        0        0         0         0   \n",
              "976         0        0        0        0        0         0         1   \n",
              "184         0        0        1        0        0         0         0   \n",
              "1001        0        1        0        0        0         0         0   \n",
              "746         0        0        0        0        0         0         0   \n",
              "\n",
              "      Month_12  Optimal Discount  \n",
              "51           0      42499.432450  \n",
              "976          0        964.885616  \n",
              "184          0      86010.891110  \n",
              "1001         0     210407.106126  \n",
              "746          0          0.000000  \n",
              "\n",
              "[5 rows x 31 columns]"
            ],
            "text/html": [
              "\n",
              "  <div id=\"df-8aa55676-cfcc-4381-86b9-4962bc18e132\">\n",
              "    <div class=\"colab-df-container\">\n",
              "      <div>\n",
              "<style scoped>\n",
              "    .dataframe tbody tr th:only-of-type {\n",
              "        vertical-align: middle;\n",
              "    }\n",
              "\n",
              "    .dataframe tbody tr th {\n",
              "        vertical-align: top;\n",
              "    }\n",
              "\n",
              "    .dataframe thead th {\n",
              "        text-align: right;\n",
              "    }\n",
              "</style>\n",
              "<table border=\"1\" class=\"dataframe\">\n",
              "  <thead>\n",
              "    <tr style=\"text-align: right;\">\n",
              "      <th></th>\n",
              "      <th>ID</th>\n",
              "      <th>Close Date</th>\n",
              "      <th>Created Date</th>\n",
              "      <th>New Logo</th>\n",
              "      <th>Stage</th>\n",
              "      <th>Direct Cloud</th>\n",
              "      <th>Direct OnPrem</th>\n",
              "      <th>Partner Cloud</th>\n",
              "      <th>Partner OnPrem</th>\n",
              "      <th>Amount</th>\n",
              "      <th>...</th>\n",
              "      <th>Month_4</th>\n",
              "      <th>Month_5</th>\n",
              "      <th>Month_6</th>\n",
              "      <th>Month_7</th>\n",
              "      <th>Month_8</th>\n",
              "      <th>Month_9</th>\n",
              "      <th>Month_10</th>\n",
              "      <th>Month_11</th>\n",
              "      <th>Month_12</th>\n",
              "      <th>Optimal Discount</th>\n",
              "    </tr>\n",
              "  </thead>\n",
              "  <tbody>\n",
              "    <tr>\n",
              "      <th>51</th>\n",
              "      <td>52</td>\n",
              "      <td>2017-03-24</td>\n",
              "      <td>9/20/16</td>\n",
              "      <td>1</td>\n",
              "      <td>Won</td>\n",
              "      <td>0</td>\n",
              "      <td>0</td>\n",
              "      <td>1</td>\n",
              "      <td>0</td>\n",
              "      <td>225000.0</td>\n",
              "      <td>...</td>\n",
              "      <td>0</td>\n",
              "      <td>0</td>\n",
              "      <td>0</td>\n",
              "      <td>0</td>\n",
              "      <td>0</td>\n",
              "      <td>0</td>\n",
              "      <td>0</td>\n",
              "      <td>0</td>\n",
              "      <td>0</td>\n",
              "      <td>42499.432450</td>\n",
              "    </tr>\n",
              "    <tr>\n",
              "      <th>976</th>\n",
              "      <td>977</td>\n",
              "      <td>2016-11-14</td>\n",
              "      <td>10/10/16</td>\n",
              "      <td>0</td>\n",
              "      <td>Lost</td>\n",
              "      <td>0</td>\n",
              "      <td>0</td>\n",
              "      <td>0</td>\n",
              "      <td>1</td>\n",
              "      <td>50000.0</td>\n",
              "      <td>...</td>\n",
              "      <td>0</td>\n",
              "      <td>0</td>\n",
              "      <td>0</td>\n",
              "      <td>0</td>\n",
              "      <td>0</td>\n",
              "      <td>0</td>\n",
              "      <td>0</td>\n",
              "      <td>1</td>\n",
              "      <td>0</td>\n",
              "      <td>964.885616</td>\n",
              "    </tr>\n",
              "    <tr>\n",
              "      <th>184</th>\n",
              "      <td>185</td>\n",
              "      <td>2017-07-06</td>\n",
              "      <td>4/7/17</td>\n",
              "      <td>1</td>\n",
              "      <td>Won</td>\n",
              "      <td>0</td>\n",
              "      <td>0</td>\n",
              "      <td>0</td>\n",
              "      <td>1</td>\n",
              "      <td>157500.0</td>\n",
              "      <td>...</td>\n",
              "      <td>0</td>\n",
              "      <td>0</td>\n",
              "      <td>0</td>\n",
              "      <td>1</td>\n",
              "      <td>0</td>\n",
              "      <td>0</td>\n",
              "      <td>0</td>\n",
              "      <td>0</td>\n",
              "      <td>0</td>\n",
              "      <td>86010.891110</td>\n",
              "    </tr>\n",
              "    <tr>\n",
              "      <th>1001</th>\n",
              "      <td>1002</td>\n",
              "      <td>2017-06-16</td>\n",
              "      <td>12/12/16</td>\n",
              "      <td>1</td>\n",
              "      <td>Won</td>\n",
              "      <td>0</td>\n",
              "      <td>0</td>\n",
              "      <td>0</td>\n",
              "      <td>1</td>\n",
              "      <td>750000.0</td>\n",
              "      <td>...</td>\n",
              "      <td>0</td>\n",
              "      <td>0</td>\n",
              "      <td>1</td>\n",
              "      <td>0</td>\n",
              "      <td>0</td>\n",
              "      <td>0</td>\n",
              "      <td>0</td>\n",
              "      <td>0</td>\n",
              "      <td>0</td>\n",
              "      <td>210407.106126</td>\n",
              "    </tr>\n",
              "    <tr>\n",
              "      <th>746</th>\n",
              "      <td>747</td>\n",
              "      <td>2016-03-01</td>\n",
              "      <td>10/19/15</td>\n",
              "      <td>0</td>\n",
              "      <td>Lost</td>\n",
              "      <td>0</td>\n",
              "      <td>1</td>\n",
              "      <td>0</td>\n",
              "      <td>0</td>\n",
              "      <td>13780.0</td>\n",
              "      <td>...</td>\n",
              "      <td>0</td>\n",
              "      <td>0</td>\n",
              "      <td>0</td>\n",
              "      <td>0</td>\n",
              "      <td>0</td>\n",
              "      <td>0</td>\n",
              "      <td>0</td>\n",
              "      <td>0</td>\n",
              "      <td>0</td>\n",
              "      <td>0.000000</td>\n",
              "    </tr>\n",
              "  </tbody>\n",
              "</table>\n",
              "<p>5 rows × 31 columns</p>\n",
              "</div>\n",
              "      <button class=\"colab-df-convert\" onclick=\"convertToInteractive('df-8aa55676-cfcc-4381-86b9-4962bc18e132')\"\n",
              "              title=\"Convert this dataframe to an interactive table.\"\n",
              "              style=\"display:none;\">\n",
              "        \n",
              "  <svg xmlns=\"http://www.w3.org/2000/svg\" height=\"24px\"viewBox=\"0 0 24 24\"\n",
              "       width=\"24px\">\n",
              "    <path d=\"M0 0h24v24H0V0z\" fill=\"none\"/>\n",
              "    <path d=\"M18.56 5.44l.94 2.06.94-2.06 2.06-.94-2.06-.94-.94-2.06-.94 2.06-2.06.94zm-11 1L8.5 8.5l.94-2.06 2.06-.94-2.06-.94L8.5 2.5l-.94 2.06-2.06.94zm10 10l.94 2.06.94-2.06 2.06-.94-2.06-.94-.94-2.06-.94 2.06-2.06.94z\"/><path d=\"M17.41 7.96l-1.37-1.37c-.4-.4-.92-.59-1.43-.59-.52 0-1.04.2-1.43.59L10.3 9.45l-7.72 7.72c-.78.78-.78 2.05 0 2.83L4 21.41c.39.39.9.59 1.41.59.51 0 1.02-.2 1.41-.59l7.78-7.78 2.81-2.81c.8-.78.8-2.07 0-2.86zM5.41 20L4 18.59l7.72-7.72 1.47 1.35L5.41 20z\"/>\n",
              "  </svg>\n",
              "      </button>\n",
              "      \n",
              "  <style>\n",
              "    .colab-df-container {\n",
              "      display:flex;\n",
              "      flex-wrap:wrap;\n",
              "      gap: 12px;\n",
              "    }\n",
              "\n",
              "    .colab-df-convert {\n",
              "      background-color: #E8F0FE;\n",
              "      border: none;\n",
              "      border-radius: 50%;\n",
              "      cursor: pointer;\n",
              "      display: none;\n",
              "      fill: #1967D2;\n",
              "      height: 32px;\n",
              "      padding: 0 0 0 0;\n",
              "      width: 32px;\n",
              "    }\n",
              "\n",
              "    .colab-df-convert:hover {\n",
              "      background-color: #E2EBFA;\n",
              "      box-shadow: 0px 1px 2px rgba(60, 64, 67, 0.3), 0px 1px 3px 1px rgba(60, 64, 67, 0.15);\n",
              "      fill: #174EA6;\n",
              "    }\n",
              "\n",
              "    [theme=dark] .colab-df-convert {\n",
              "      background-color: #3B4455;\n",
              "      fill: #D2E3FC;\n",
              "    }\n",
              "\n",
              "    [theme=dark] .colab-df-convert:hover {\n",
              "      background-color: #434B5C;\n",
              "      box-shadow: 0px 1px 3px 1px rgba(0, 0, 0, 0.15);\n",
              "      filter: drop-shadow(0px 1px 2px rgba(0, 0, 0, 0.3));\n",
              "      fill: #FFFFFF;\n",
              "    }\n",
              "  </style>\n",
              "\n",
              "      <script>\n",
              "        const buttonEl =\n",
              "          document.querySelector('#df-8aa55676-cfcc-4381-86b9-4962bc18e132 button.colab-df-convert');\n",
              "        buttonEl.style.display =\n",
              "          google.colab.kernel.accessAllowed ? 'block' : 'none';\n",
              "\n",
              "        async function convertToInteractive(key) {\n",
              "          const element = document.querySelector('#df-8aa55676-cfcc-4381-86b9-4962bc18e132');\n",
              "          const dataTable =\n",
              "            await google.colab.kernel.invokeFunction('convertToInteractive',\n",
              "                                                     [key], {});\n",
              "          if (!dataTable) return;\n",
              "\n",
              "          const docLinkHtml = 'Like what you see? Visit the ' +\n",
              "            '<a target=\"_blank\" href=https://colab.research.google.com/notebooks/data_table.ipynb>data table notebook</a>'\n",
              "            + ' to learn more about interactive tables.';\n",
              "          element.innerHTML = '';\n",
              "          dataTable['output_type'] = 'display_data';\n",
              "          await google.colab.output.renderOutput(dataTable, element);\n",
              "          const docLink = document.createElement('div');\n",
              "          docLink.innerHTML = docLinkHtml;\n",
              "          element.appendChild(docLink);\n",
              "        }\n",
              "      </script>\n",
              "    </div>\n",
              "  </div>\n",
              "  "
            ]
          },
          "metadata": {},
          "execution_count": 66
        }
      ]
    },
    {
      "cell_type": "code",
      "source": [
        "plt.hist(test_data['Optimal Discount'], bins=10)  # Replace 'ColumnName' with the actual column name\n",
        "plt.xlabel('Optimal Discount')\n",
        "plt.ylabel('Frequency')\n",
        "plt.title('Model 4')\n",
        "plt.show()"
      ],
      "metadata": {
        "colab": {
          "base_uri": "https://localhost:8080/",
          "height": 472
        },
        "id": "9EtVfbSBEjMe",
        "outputId": "e8089bcf-231f-4642-83a5-79f1c3157101"
      },
      "execution_count": 67,
      "outputs": [
        {
          "output_type": "display_data",
          "data": {
            "text/plain": [
              "<Figure size 640x480 with 1 Axes>"
            ],
            "image/png": "[encoded data removed]"
          },
          "metadata": {}
        }
      ]
    },
    {
      "cell_type": "markdown",
      "source": [
        "### **Calculate Revenue Improvement**"
      ],
      "metadata": {
        "id": "0pg4DR_dmr_B"
      }
    },
    {
      "cell_type": "code",
      "source": [
        "# revenue, un-optimzed discounts \n",
        "xS = test_data[['Discount', 'Amount', 'New Logo', \n",
        "                'Direct Cloud', 'Direct OnPrem', 'Partner Cloud',\n",
        "                'Month_2', 'Month_3','Month_4', 'Month_5',\n",
        "                'Month_6', 'Month_7','Month_8', 'Month_9', \n",
        "                'Month_10', 'Month_11','Month_12']]\n",
        "\n",
        "ID=0\n",
        "ID_max=301\n",
        "rev_unopt=np.empty([ID_max,])\n",
        "\n",
        "while ID<=ID_max-1:\n",
        "  j=0\n",
        "  u=0\n",
        "  while j<=16:\n",
        "    u=u+xS.iloc[ID][j]*results.params[j]\n",
        "    j=j+1\n",
        "    proba=np.exp(u)/(1+np.exp(u))\n",
        "    rev_unopt[ID] = proba * (xS['Amount'].values[ID] - xS['Discount'].values[ID])\n",
        "  ID=ID+1\n",
        "\n",
        "rev_unopt=np.nan_to_num(rev_unopt);"
      ],
      "metadata": {
        "id": "YDfKr8D4xK-Z"
      },
      "execution_count": null,
      "outputs": []
    },
    {
      "cell_type": "code",
      "source": [
        "# revenue, optimzed discounts \n",
        "xS2 = test_data[['Optimal Discount', 'Amount', 'New Logo', \n",
        "                'Direct Cloud', 'Direct OnPrem', 'Partner Cloud',\n",
        "                'Month_2', 'Month_3','Month_4', 'Month_5',\n",
        "                'Month_6', 'Month_7','Month_8', 'Month_9', \n",
        "                'Month_10', 'Month_11','Month_12']]\n",
        "\n",
        "ID=0\n",
        "ID_max=301\n",
        "rev_opt=np.empty([ID_max,])\n",
        "\n",
        "while ID<=ID_max-1:\n",
        "  j=0\n",
        "  u=0\n",
        "  while j<=16:\n",
        "    u=u+xS2.iloc[ID][j]*results.params[j]\n",
        "    j=j+1\n",
        "    proba=np.exp(u)/(1+np.exp(u))\n",
        "    rev_opt[ID] = proba * (xS2['Amount'].values[ID] - xS2['Optimal Discount'].values[ID])\n",
        "  ID=ID+1\n",
        "\n",
        "rev_opt=np.nan_to_num(rev_opt);"
      ],
      "metadata": {
        "id": "OYAO-AD0qHds"
      },
      "execution_count": 97,
      "outputs": []
    },
    {
      "cell_type": "code",
      "source": [
        "test_data['Revenue'] = np.where(test_data['Stage'] == 'Won', test_data['Net Amount'], 0.0)"
      ],
      "metadata": {
        "id": "60FR7RmGwSvr"
      },
      "execution_count": 105,
      "outputs": []
    },
    {
      "cell_type": "code",
      "source": [
        "print('Expected revenue improvement over un-optimized discounts:', round(np.sum(rev_unopt) / np.sum(test_data['Revenue']), 2))\n",
        "print('Expected revenue improvement over optimized discounts:', round(np.sum(rev_opt) / np.sum(test_data['Revenue']), 2))"
      ],
      "metadata": {
        "colab": {
          "base_uri": "https://localhost:8080/"
        },
        "id": "wV0wA7HQ0kKd",
        "outputId": "697dcc3e-5067-4c40-8ce6-f4d244164863"
      },
      "execution_count": 110,
      "outputs": [
        {
          "output_type": "stream",
          "name": "stdout",
          "text": [
            "Expected revenue improvement over un-optimized discounts: 0.93\n",
            "Expected revenue improvement over optimized discounts: 1.24\n"
          ]
        }
      ]
    },
    {
      "cell_type": "code",
      "source": [
        "test_data['Optimized Revenue'] = rev_opt\n",
        "test_data['Optimized Revenue'] = np.where(test_data['Stage'] == 'Won', test_data['Optimized Revenue'], 0.0)"
      ],
      "metadata": {
        "id": "AAHvYYNp1Ug_"
      },
      "execution_count": 113,
      "outputs": []
    },
    {
      "cell_type": "code",
      "source": [
        "df = test_data[['Month','Discount','Revenue','Optimal Discount', 'Optimized Revenue']]\n",
        "\n",
        "print(round(df.groupby('Month').mean(), 2))"
      ],
      "metadata": {
        "colab": {
          "base_uri": "https://localhost:8080/"
        },
        "id": "pS4KaM5I1s0a",
        "outputId": "0f7af143-1d8b-4da9-a5de-a321e30ec248"
      },
      "execution_count": 119,
      "outputs": [
        {
          "output_type": "stream",
          "name": "stdout",
          "text": [
            "       Discount   Revenue  Optimal Discount  Optimized Revenue\n",
            "Month                                                         \n",
            "1       2923.45   6690.34           7501.48            7798.44\n",
            "2       8921.76  14219.05          14501.10           12594.38\n",
            "3      22186.91  40360.88          17207.94           42283.63\n",
            "4       3486.00   7285.45          14015.55            3919.89\n",
            "5      17223.55  35297.42          32608.96           21804.88\n",
            "6      28681.48  49925.71          31328.19           46019.17\n",
            "7       4076.36   6875.76          24337.03            2051.31\n",
            "8      16828.12  28258.75          24486.82           19527.16\n",
            "9      13531.47  32127.35          16584.82           32536.13\n",
            "10     13247.32  50617.42          22808.08           41117.52\n",
            "11      8525.00   5692.31           9810.26            5216.45\n",
            "12     13589.31  35755.85           7740.44           38822.84\n"
          ]
        }
      ]
    }
  ]
}